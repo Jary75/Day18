{
 "cells": [
  {
   "cell_type": "markdown",
   "id": "f3e32308-2a5a-4d12-b867-133ace91a43b",
   "metadata": {},
   "source": [
    "## Introduction to Data Science\n",
    "\n",
    "#### University of Redlands - DATA 101\n",
    "#### Prof: Joanna Bieri [joanna_bieri@redlands.edu](mailto:joanna_bieri@redlands.edu)\n",
    "#### [Class Website: data101.joannabieri.com](https://joannabieri.com/data101.html)\n",
    "\n",
    "---------------------------------------\n",
    "# Homework Day 18\n",
    "---------------------------------------\n",
    "\n",
    "GOALS:\n",
    "\n",
    "1. Practice Logistic Regression\n",
    "2. Interpret Logistic Regression Results\n",
    "\n",
    "----------------------------------------------------------\n",
    "\n",
    "\n",
    "This homework has **1 Exercise** and **1 Challenge Exercise**"
   ]
  },
  {
   "cell_type": "markdown",
   "id": "d0c422e3-32b1-452f-89a8-2586784d3957",
   "metadata": {},
   "source": [
    "### Important Information\n",
    "\n",
    "- Email: [joanna_bieri@redlands.edu](mailto:joanna_bieri@redlands.edu)\n",
    "- Office Hours: Duke 209 <a href=\"https://joannabieri.com/schedule.html\"> Click Here for Joanna's Schedule</a>\n",
    "\n",
    "\n",
    "### Announcements\n",
    "\n",
    "**Come to Lab!** If you need help we are here to help!\n",
    "\n",
    "### Day 18 Assignment - same drill.\n",
    "\n",
    "1. Make sure you can **Fork** and **Clone** the Day18 repo from [Redlands-DATA101](https://github.com/Redlands-DATA101)\n",
    "2. Open the file Day18-HW.ipynb and start doing the problems.\n",
    "    * You can do these problems as you follow along with the lecture notes and video.\n",
    "3. Get as far as you can before class.\n",
    "4. Submit what you have so far **Commit** and **Push** to Git.\n",
    "5. Take the daily check in quiz on **Canvas**.\n",
    "7. Come to class with lots of questions!"
   ]
  },
  {
   "cell_type": "code",
   "execution_count": 313,
   "id": "d0153569-41e3-4696-9b34-83ba90a0b5cf",
   "metadata": {},
   "outputs": [],
   "source": [
    "import numpy as np\n",
    "import pandas as pd\n",
    "\n",
    "import matplotlib.pyplot as plt\n",
    "import plotly.express as px\n",
    "from plotly.subplots import make_subplots\n",
    "import plotly.io as pio\n",
    "pio.renderers.defaule = 'colab'\n",
    "\n",
    "from itables import show\n",
    "\n",
    "# This stops a few warning messages from showing\n",
    "pd.options.mode.chained_assignment = None \n",
    "import warnings\n",
    "warnings.simplefilter(action='ignore', category=FutureWarning)\n",
    "\n",
    "# Machine Learning Packages\n",
    "from sklearn.preprocessing import OneHotEncoder\n",
    "from sklearn.linear_model import LinearRegression, LogisticRegression \n",
    "from sklearn import metrics"
   ]
  },
  {
   "cell_type": "markdown",
   "id": "edaead12-7744-4d9f-b4ac-aba340ff1bf7",
   "metadata": {},
   "source": [
    "### Data: A collection of Emails\n",
    "\n",
    "- Emails for the first three months of 2012 for an email account\n",
    "- Data from 3921 emails and 21 variables on them\n",
    "- Outcome: whether the email is spam or not\n",
    "- Predictors: number of characters, whether the email had \"Re:\" in the subject, time at which email was sent, number of times the word \"inherit\" shows up in the email, etc.\n",
    "\n",
    "\n",
    "Data Information: https://www.openintro.org/data/index.php?data=email\n",
    "\n",
    "This lab follows the Data Science in a Box units \"Unit 4 - Deck 6: Logistic regression\" by Mine Çetinkaya-Rundel. It has been updated for our class and translated to Python by Joanna Bieri."
   ]
  },
  {
   "cell_type": "code",
   "execution_count": 315,
   "id": "9cb019df-0e97-47a5-a00a-d0b7246a3dbb",
   "metadata": {},
   "outputs": [],
   "source": [
    "file_name = 'data/email.csv'\n",
    "DF = pd.read_csv(file_name)"
   ]
  },
  {
   "cell_type": "code",
   "execution_count": 316,
   "id": "c9315514-3d8a-4188-953d-693f6b14c772",
   "metadata": {},
   "outputs": [
    {
     "data": {
      "text/html": [
       "<div>\n",
       "<style scoped>\n",
       "    .dataframe tbody tr th:only-of-type {\n",
       "        vertical-align: middle;\n",
       "    }\n",
       "\n",
       "    .dataframe tbody tr th {\n",
       "        vertical-align: top;\n",
       "    }\n",
       "\n",
       "    .dataframe thead th {\n",
       "        text-align: right;\n",
       "    }\n",
       "</style>\n",
       "<table border=\"1\" class=\"dataframe\">\n",
       "  <thead>\n",
       "    <tr style=\"text-align: right;\">\n",
       "      <th></th>\n",
       "      <th>spam</th>\n",
       "      <th>to_multiple</th>\n",
       "      <th>from</th>\n",
       "      <th>cc</th>\n",
       "      <th>sent_email</th>\n",
       "      <th>time</th>\n",
       "      <th>image</th>\n",
       "      <th>attach</th>\n",
       "      <th>dollar</th>\n",
       "      <th>winner</th>\n",
       "      <th>...</th>\n",
       "      <th>viagra</th>\n",
       "      <th>password</th>\n",
       "      <th>num_char</th>\n",
       "      <th>line_breaks</th>\n",
       "      <th>format</th>\n",
       "      <th>re_subj</th>\n",
       "      <th>exclaim_subj</th>\n",
       "      <th>urgent_subj</th>\n",
       "      <th>exclaim_mess</th>\n",
       "      <th>number</th>\n",
       "    </tr>\n",
       "  </thead>\n",
       "  <tbody>\n",
       "    <tr>\n",
       "      <th>0</th>\n",
       "      <td>0</td>\n",
       "      <td>0</td>\n",
       "      <td>1</td>\n",
       "      <td>0</td>\n",
       "      <td>0</td>\n",
       "      <td>2012-01-01T06:16:41Z</td>\n",
       "      <td>0</td>\n",
       "      <td>0</td>\n",
       "      <td>0</td>\n",
       "      <td>no</td>\n",
       "      <td>...</td>\n",
       "      <td>0</td>\n",
       "      <td>0</td>\n",
       "      <td>11.370</td>\n",
       "      <td>202</td>\n",
       "      <td>1</td>\n",
       "      <td>0</td>\n",
       "      <td>0</td>\n",
       "      <td>0</td>\n",
       "      <td>0</td>\n",
       "      <td>big</td>\n",
       "    </tr>\n",
       "    <tr>\n",
       "      <th>1</th>\n",
       "      <td>0</td>\n",
       "      <td>0</td>\n",
       "      <td>1</td>\n",
       "      <td>0</td>\n",
       "      <td>0</td>\n",
       "      <td>2012-01-01T07:03:59Z</td>\n",
       "      <td>0</td>\n",
       "      <td>0</td>\n",
       "      <td>0</td>\n",
       "      <td>no</td>\n",
       "      <td>...</td>\n",
       "      <td>0</td>\n",
       "      <td>0</td>\n",
       "      <td>10.504</td>\n",
       "      <td>202</td>\n",
       "      <td>1</td>\n",
       "      <td>0</td>\n",
       "      <td>0</td>\n",
       "      <td>0</td>\n",
       "      <td>1</td>\n",
       "      <td>small</td>\n",
       "    </tr>\n",
       "    <tr>\n",
       "      <th>2</th>\n",
       "      <td>0</td>\n",
       "      <td>0</td>\n",
       "      <td>1</td>\n",
       "      <td>0</td>\n",
       "      <td>0</td>\n",
       "      <td>2012-01-01T16:00:32Z</td>\n",
       "      <td>0</td>\n",
       "      <td>0</td>\n",
       "      <td>4</td>\n",
       "      <td>no</td>\n",
       "      <td>...</td>\n",
       "      <td>0</td>\n",
       "      <td>0</td>\n",
       "      <td>7.773</td>\n",
       "      <td>192</td>\n",
       "      <td>1</td>\n",
       "      <td>0</td>\n",
       "      <td>0</td>\n",
       "      <td>0</td>\n",
       "      <td>6</td>\n",
       "      <td>small</td>\n",
       "    </tr>\n",
       "    <tr>\n",
       "      <th>3</th>\n",
       "      <td>0</td>\n",
       "      <td>0</td>\n",
       "      <td>1</td>\n",
       "      <td>0</td>\n",
       "      <td>0</td>\n",
       "      <td>2012-01-01T09:09:49Z</td>\n",
       "      <td>0</td>\n",
       "      <td>0</td>\n",
       "      <td>0</td>\n",
       "      <td>no</td>\n",
       "      <td>...</td>\n",
       "      <td>0</td>\n",
       "      <td>0</td>\n",
       "      <td>13.256</td>\n",
       "      <td>255</td>\n",
       "      <td>1</td>\n",
       "      <td>0</td>\n",
       "      <td>0</td>\n",
       "      <td>0</td>\n",
       "      <td>48</td>\n",
       "      <td>small</td>\n",
       "    </tr>\n",
       "    <tr>\n",
       "      <th>4</th>\n",
       "      <td>0</td>\n",
       "      <td>0</td>\n",
       "      <td>1</td>\n",
       "      <td>0</td>\n",
       "      <td>0</td>\n",
       "      <td>2012-01-01T10:00:01Z</td>\n",
       "      <td>0</td>\n",
       "      <td>0</td>\n",
       "      <td>0</td>\n",
       "      <td>no</td>\n",
       "      <td>...</td>\n",
       "      <td>0</td>\n",
       "      <td>2</td>\n",
       "      <td>1.231</td>\n",
       "      <td>29</td>\n",
       "      <td>0</td>\n",
       "      <td>0</td>\n",
       "      <td>0</td>\n",
       "      <td>0</td>\n",
       "      <td>1</td>\n",
       "      <td>none</td>\n",
       "    </tr>\n",
       "    <tr>\n",
       "      <th>...</th>\n",
       "      <td>...</td>\n",
       "      <td>...</td>\n",
       "      <td>...</td>\n",
       "      <td>...</td>\n",
       "      <td>...</td>\n",
       "      <td>...</td>\n",
       "      <td>...</td>\n",
       "      <td>...</td>\n",
       "      <td>...</td>\n",
       "      <td>...</td>\n",
       "      <td>...</td>\n",
       "      <td>...</td>\n",
       "      <td>...</td>\n",
       "      <td>...</td>\n",
       "      <td>...</td>\n",
       "      <td>...</td>\n",
       "      <td>...</td>\n",
       "      <td>...</td>\n",
       "      <td>...</td>\n",
       "      <td>...</td>\n",
       "      <td>...</td>\n",
       "    </tr>\n",
       "    <tr>\n",
       "      <th>3916</th>\n",
       "      <td>1</td>\n",
       "      <td>0</td>\n",
       "      <td>1</td>\n",
       "      <td>0</td>\n",
       "      <td>0</td>\n",
       "      <td>2012-03-31T00:03:45Z</td>\n",
       "      <td>0</td>\n",
       "      <td>0</td>\n",
       "      <td>0</td>\n",
       "      <td>no</td>\n",
       "      <td>...</td>\n",
       "      <td>0</td>\n",
       "      <td>0</td>\n",
       "      <td>0.332</td>\n",
       "      <td>12</td>\n",
       "      <td>0</td>\n",
       "      <td>0</td>\n",
       "      <td>0</td>\n",
       "      <td>0</td>\n",
       "      <td>0</td>\n",
       "      <td>small</td>\n",
       "    </tr>\n",
       "    <tr>\n",
       "      <th>3917</th>\n",
       "      <td>1</td>\n",
       "      <td>0</td>\n",
       "      <td>1</td>\n",
       "      <td>0</td>\n",
       "      <td>0</td>\n",
       "      <td>2012-03-31T14:13:19Z</td>\n",
       "      <td>0</td>\n",
       "      <td>0</td>\n",
       "      <td>1</td>\n",
       "      <td>no</td>\n",
       "      <td>...</td>\n",
       "      <td>0</td>\n",
       "      <td>0</td>\n",
       "      <td>0.323</td>\n",
       "      <td>15</td>\n",
       "      <td>0</td>\n",
       "      <td>0</td>\n",
       "      <td>0</td>\n",
       "      <td>0</td>\n",
       "      <td>0</td>\n",
       "      <td>small</td>\n",
       "    </tr>\n",
       "    <tr>\n",
       "      <th>3918</th>\n",
       "      <td>0</td>\n",
       "      <td>1</td>\n",
       "      <td>1</td>\n",
       "      <td>0</td>\n",
       "      <td>0</td>\n",
       "      <td>2012-03-30T16:20:33Z</td>\n",
       "      <td>0</td>\n",
       "      <td>0</td>\n",
       "      <td>0</td>\n",
       "      <td>no</td>\n",
       "      <td>...</td>\n",
       "      <td>0</td>\n",
       "      <td>0</td>\n",
       "      <td>8.656</td>\n",
       "      <td>208</td>\n",
       "      <td>1</td>\n",
       "      <td>0</td>\n",
       "      <td>0</td>\n",
       "      <td>0</td>\n",
       "      <td>5</td>\n",
       "      <td>small</td>\n",
       "    </tr>\n",
       "    <tr>\n",
       "      <th>3919</th>\n",
       "      <td>0</td>\n",
       "      <td>1</td>\n",
       "      <td>1</td>\n",
       "      <td>0</td>\n",
       "      <td>0</td>\n",
       "      <td>2012-03-28T16:00:49Z</td>\n",
       "      <td>0</td>\n",
       "      <td>0</td>\n",
       "      <td>0</td>\n",
       "      <td>no</td>\n",
       "      <td>...</td>\n",
       "      <td>0</td>\n",
       "      <td>0</td>\n",
       "      <td>10.185</td>\n",
       "      <td>132</td>\n",
       "      <td>0</td>\n",
       "      <td>0</td>\n",
       "      <td>0</td>\n",
       "      <td>0</td>\n",
       "      <td>0</td>\n",
       "      <td>small</td>\n",
       "    </tr>\n",
       "    <tr>\n",
       "      <th>3920</th>\n",
       "      <td>1</td>\n",
       "      <td>0</td>\n",
       "      <td>1</td>\n",
       "      <td>0</td>\n",
       "      <td>0</td>\n",
       "      <td>2012-03-31T09:20:24Z</td>\n",
       "      <td>0</td>\n",
       "      <td>0</td>\n",
       "      <td>2</td>\n",
       "      <td>yes</td>\n",
       "      <td>...</td>\n",
       "      <td>0</td>\n",
       "      <td>0</td>\n",
       "      <td>2.225</td>\n",
       "      <td>65</td>\n",
       "      <td>0</td>\n",
       "      <td>0</td>\n",
       "      <td>1</td>\n",
       "      <td>0</td>\n",
       "      <td>1</td>\n",
       "      <td>small</td>\n",
       "    </tr>\n",
       "  </tbody>\n",
       "</table>\n",
       "<p>3921 rows × 21 columns</p>\n",
       "</div>"
      ],
      "text/plain": [
       "      spam  to_multiple  from  cc  sent_email                  time  image  \\\n",
       "0        0            0     1   0           0  2012-01-01T06:16:41Z      0   \n",
       "1        0            0     1   0           0  2012-01-01T07:03:59Z      0   \n",
       "2        0            0     1   0           0  2012-01-01T16:00:32Z      0   \n",
       "3        0            0     1   0           0  2012-01-01T09:09:49Z      0   \n",
       "4        0            0     1   0           0  2012-01-01T10:00:01Z      0   \n",
       "...    ...          ...   ...  ..         ...                   ...    ...   \n",
       "3916     1            0     1   0           0  2012-03-31T00:03:45Z      0   \n",
       "3917     1            0     1   0           0  2012-03-31T14:13:19Z      0   \n",
       "3918     0            1     1   0           0  2012-03-30T16:20:33Z      0   \n",
       "3919     0            1     1   0           0  2012-03-28T16:00:49Z      0   \n",
       "3920     1            0     1   0           0  2012-03-31T09:20:24Z      0   \n",
       "\n",
       "      attach  dollar winner  ...  viagra  password  num_char  line_breaks  \\\n",
       "0          0       0     no  ...       0         0    11.370          202   \n",
       "1          0       0     no  ...       0         0    10.504          202   \n",
       "2          0       4     no  ...       0         0     7.773          192   \n",
       "3          0       0     no  ...       0         0    13.256          255   \n",
       "4          0       0     no  ...       0         2     1.231           29   \n",
       "...      ...     ...    ...  ...     ...       ...       ...          ...   \n",
       "3916       0       0     no  ...       0         0     0.332           12   \n",
       "3917       0       1     no  ...       0         0     0.323           15   \n",
       "3918       0       0     no  ...       0         0     8.656          208   \n",
       "3919       0       0     no  ...       0         0    10.185          132   \n",
       "3920       0       2    yes  ...       0         0     2.225           65   \n",
       "\n",
       "      format  re_subj  exclaim_subj  urgent_subj  exclaim_mess  number  \n",
       "0          1        0             0            0             0     big  \n",
       "1          1        0             0            0             1   small  \n",
       "2          1        0             0            0             6   small  \n",
       "3          1        0             0            0            48   small  \n",
       "4          0        0             0            0             1    none  \n",
       "...      ...      ...           ...          ...           ...     ...  \n",
       "3916       0        0             0            0             0   small  \n",
       "3917       0        0             0            0             0   small  \n",
       "3918       1        0             0            0             5   small  \n",
       "3919       0        0             0            0             0   small  \n",
       "3920       0        0             1            0             1   small  \n",
       "\n",
       "[3921 rows x 21 columns]"
      ]
     },
     "execution_count": 316,
     "metadata": {},
     "output_type": "execute_result"
    }
   ],
   "source": [
    "DF"
   ]
  },
  {
   "cell_type": "markdown",
   "id": "11f9f517-ac49-4d03-9cc0-243d8880f779",
   "metadata": {},
   "source": [
    "**Exercise 1** Logistic Regression with ONE explanatory variable.\n",
    "\n",
    "Choose another variable from the data set to use as your explanatory variable and create a Logistic Regression model to predict if an email is spam or not. You should do all of the following:\n",
    "\n",
    "1. Say what variable you are using to predict spam messages (do some analysis, at minimum a value_counts()). Why do you think this is a good variable to use in predicting if an email is spam.\n",
    "2. Create and fit a Logistic Regression model.\n",
    "3. Show the results: intercept, coefficient, basic confusion matrix prediction.\n",
    "4. What do you think the decision cutoff should be? Update the cutoff and redo the confusion matrix.\n",
    "5. Explain your results in words. You should talk about False Negative and False positive rates and what they mean in terms of the variables you chose.\n"
   ]
  },
  {
   "cell_type": "code",
   "execution_count": 318,
   "id": "08ffee4e-86da-42ad-9059-10acd3f53213",
   "metadata": {},
   "outputs": [
    {
     "data": {
      "text/plain": [
       "Index(['spam', 'to_multiple', 'from', 'cc', 'sent_email', 'time', 'image',\n",
       "       'attach', 'dollar', 'winner', 'inherit', 'viagra', 'password',\n",
       "       'num_char', 'line_breaks', 'format', 're_subj', 'exclaim_subj',\n",
       "       'urgent_subj', 'exclaim_mess', 'number'],\n",
       "      dtype='object')"
      ]
     },
     "execution_count": 318,
     "metadata": {},
     "output_type": "execute_result"
    }
   ],
   "source": [
    "DF.columns"
   ]
  },
  {
   "cell_type": "code",
   "execution_count": 319,
   "id": "37cdc5a0-b4c4-456c-b2f2-2a7e16124248",
   "metadata": {},
   "outputs": [
    {
     "data": {
      "text/plain": [
       "spam              int64\n",
       "to_multiple       int64\n",
       "from              int64\n",
       "cc                int64\n",
       "sent_email        int64\n",
       "time             object\n",
       "image             int64\n",
       "attach            int64\n",
       "dollar            int64\n",
       "winner           object\n",
       "inherit           int64\n",
       "viagra            int64\n",
       "password          int64\n",
       "num_char        float64\n",
       "line_breaks       int64\n",
       "format            int64\n",
       "re_subj           int64\n",
       "exclaim_subj      int64\n",
       "urgent_subj       int64\n",
       "exclaim_mess      int64\n",
       "number           object\n",
       "dtype: object"
      ]
     },
     "execution_count": 319,
     "metadata": {},
     "output_type": "execute_result"
    }
   ],
   "source": [
    "DF.dtypes"
   ]
  },
  {
   "cell_type": "code",
   "execution_count": 320,
   "id": "e85ed5cf-74e3-43e4-b47e-75de07a6b9c2",
   "metadata": {},
   "outputs": [
    {
     "data": {
      "text/plain": [
       "<bound method NDFrame.describe of       spam  to_multiple  from  cc  sent_email                  time  image  \\\n",
       "0        0            0     1   0           0  2012-01-01T06:16:41Z      0   \n",
       "1        0            0     1   0           0  2012-01-01T07:03:59Z      0   \n",
       "2        0            0     1   0           0  2012-01-01T16:00:32Z      0   \n",
       "3        0            0     1   0           0  2012-01-01T09:09:49Z      0   \n",
       "4        0            0     1   0           0  2012-01-01T10:00:01Z      0   \n",
       "...    ...          ...   ...  ..         ...                   ...    ...   \n",
       "3916     1            0     1   0           0  2012-03-31T00:03:45Z      0   \n",
       "3917     1            0     1   0           0  2012-03-31T14:13:19Z      0   \n",
       "3918     0            1     1   0           0  2012-03-30T16:20:33Z      0   \n",
       "3919     0            1     1   0           0  2012-03-28T16:00:49Z      0   \n",
       "3920     1            0     1   0           0  2012-03-31T09:20:24Z      0   \n",
       "\n",
       "      attach  dollar winner  ...  viagra  password  num_char  line_breaks  \\\n",
       "0          0       0     no  ...       0         0    11.370          202   \n",
       "1          0       0     no  ...       0         0    10.504          202   \n",
       "2          0       4     no  ...       0         0     7.773          192   \n",
       "3          0       0     no  ...       0         0    13.256          255   \n",
       "4          0       0     no  ...       0         2     1.231           29   \n",
       "...      ...     ...    ...  ...     ...       ...       ...          ...   \n",
       "3916       0       0     no  ...       0         0     0.332           12   \n",
       "3917       0       1     no  ...       0         0     0.323           15   \n",
       "3918       0       0     no  ...       0         0     8.656          208   \n",
       "3919       0       0     no  ...       0         0    10.185          132   \n",
       "3920       0       2    yes  ...       0         0     2.225           65   \n",
       "\n",
       "      format  re_subj  exclaim_subj  urgent_subj  exclaim_mess  number  \n",
       "0          1        0             0            0             0     big  \n",
       "1          1        0             0            0             1   small  \n",
       "2          1        0             0            0             6   small  \n",
       "3          1        0             0            0            48   small  \n",
       "4          0        0             0            0             1    none  \n",
       "...      ...      ...           ...          ...           ...     ...  \n",
       "3916       0        0             0            0             0   small  \n",
       "3917       0        0             0            0             0   small  \n",
       "3918       1        0             0            0             5   small  \n",
       "3919       0        0             0            0             0   small  \n",
       "3920       0        0             1            0             1   small  \n",
       "\n",
       "[3921 rows x 21 columns]>"
      ]
     },
     "execution_count": 320,
     "metadata": {},
     "output_type": "execute_result"
    }
   ],
   "source": [
    "DF.describe"
   ]
  },
  {
   "cell_type": "code",
   "execution_count": 321,
   "id": "acfeb837-79a4-4f80-ab02-37e942e3c3d0",
   "metadata": {},
   "outputs": [
    {
     "data": {
      "text/plain": [
       "spam            0\n",
       "to_multiple     0\n",
       "from            0\n",
       "cc              0\n",
       "sent_email      0\n",
       "time            0\n",
       "image           0\n",
       "attach          0\n",
       "dollar          0\n",
       "winner          0\n",
       "inherit         0\n",
       "viagra          0\n",
       "password        0\n",
       "num_char        0\n",
       "line_breaks     0\n",
       "format          0\n",
       "re_subj         0\n",
       "exclaim_subj    0\n",
       "urgent_subj     0\n",
       "exclaim_mess    0\n",
       "number          0\n",
       "dtype: int64"
      ]
     },
     "execution_count": 321,
     "metadata": {},
     "output_type": "execute_result"
    }
   ],
   "source": [
    "DF.isna().sum()"
   ]
  },
  {
   "cell_type": "code",
   "execution_count": 322,
   "id": "4034f609-0919-41f1-9e7c-b373e667b8e3",
   "metadata": {},
   "outputs": [
    {
     "data": {
      "text/plain": [
       "<bound method DataFrame.value_counts of       spam  to_multiple  from  cc  sent_email                  time  image  \\\n",
       "0        0            0     1   0           0  2012-01-01T06:16:41Z      0   \n",
       "1        0            0     1   0           0  2012-01-01T07:03:59Z      0   \n",
       "2        0            0     1   0           0  2012-01-01T16:00:32Z      0   \n",
       "3        0            0     1   0           0  2012-01-01T09:09:49Z      0   \n",
       "4        0            0     1   0           0  2012-01-01T10:00:01Z      0   \n",
       "...    ...          ...   ...  ..         ...                   ...    ...   \n",
       "3916     1            0     1   0           0  2012-03-31T00:03:45Z      0   \n",
       "3917     1            0     1   0           0  2012-03-31T14:13:19Z      0   \n",
       "3918     0            1     1   0           0  2012-03-30T16:20:33Z      0   \n",
       "3919     0            1     1   0           0  2012-03-28T16:00:49Z      0   \n",
       "3920     1            0     1   0           0  2012-03-31T09:20:24Z      0   \n",
       "\n",
       "      attach  dollar winner  ...  viagra  password  num_char  line_breaks  \\\n",
       "0          0       0     no  ...       0         0    11.370          202   \n",
       "1          0       0     no  ...       0         0    10.504          202   \n",
       "2          0       4     no  ...       0         0     7.773          192   \n",
       "3          0       0     no  ...       0         0    13.256          255   \n",
       "4          0       0     no  ...       0         2     1.231           29   \n",
       "...      ...     ...    ...  ...     ...       ...       ...          ...   \n",
       "3916       0       0     no  ...       0         0     0.332           12   \n",
       "3917       0       1     no  ...       0         0     0.323           15   \n",
       "3918       0       0     no  ...       0         0     8.656          208   \n",
       "3919       0       0     no  ...       0         0    10.185          132   \n",
       "3920       0       2    yes  ...       0         0     2.225           65   \n",
       "\n",
       "      format  re_subj  exclaim_subj  urgent_subj  exclaim_mess  number  \n",
       "0          1        0             0            0             0     big  \n",
       "1          1        0             0            0             1   small  \n",
       "2          1        0             0            0             6   small  \n",
       "3          1        0             0            0            48   small  \n",
       "4          0        0             0            0             1    none  \n",
       "...      ...      ...           ...          ...           ...     ...  \n",
       "3916       0        0             0            0             0   small  \n",
       "3917       0        0             0            0             0   small  \n",
       "3918       1        0             0            0             5   small  \n",
       "3919       0        0             0            0             0   small  \n",
       "3920       0        0             1            0             1   small  \n",
       "\n",
       "[3921 rows x 21 columns]>"
      ]
     },
     "execution_count": 322,
     "metadata": {},
     "output_type": "execute_result"
    }
   ],
   "source": [
    "DF.value_counts"
   ]
  },
  {
   "cell_type": "code",
   "execution_count": 323,
   "id": "d157bd0c-1f56-4d95-af88-cfa9e7df6355",
   "metadata": {},
   "outputs": [
    {
     "data": {
      "text/plain": [
       "spam              int64\n",
       "to_multiple       int64\n",
       "from              int64\n",
       "cc                int64\n",
       "sent_email        int64\n",
       "time             object\n",
       "image             int64\n",
       "attach            int64\n",
       "dollar            int64\n",
       "winner           object\n",
       "inherit           int64\n",
       "viagra            int64\n",
       "password          int64\n",
       "num_char        float64\n",
       "line_breaks       int64\n",
       "format            int64\n",
       "re_subj           int64\n",
       "exclaim_subj      int64\n",
       "urgent_subj       int64\n",
       "exclaim_mess      int64\n",
       "number           object\n",
       "dtype: object"
      ]
     },
     "execution_count": 323,
     "metadata": {},
     "output_type": "execute_result"
    }
   ],
   "source": [
    "DF.dtypes"
   ]
  },
  {
   "cell_type": "code",
   "execution_count": 324,
   "id": "4470575c-b8bd-41d5-9189-e0dbf47f6661",
   "metadata": {},
   "outputs": [
    {
     "data": {
      "application/vnd.plotly.v1+json": {
       "config": {
        "plotlyServerURL": "https://plot.ly"
       },
       "data": [
        {
         "hovertemplate": "scam=%{x}<br>to_multiple=%{y}<extra></extra>",
         "legendgroup": "",
         "marker": {
          "color": "#636efa",
          "symbol": "circle"
         },
         "mode": "markers",
         "name": "",
         "orientation": "v",
         "showlegend": false,
         "type": "scatter",
         "x": [
          -1.9721914778752372,
          -1.9336486842885754,
          -1.874283257253063,
          -1.8524522105818688,
          -1.8368994337809443,
          -1.7940849950000426,
          -1.692080360684828,
          -1.6388409197823668,
          -1.6275889287764032,
          -1.559792301889293,
          -1.5461059150376437,
          -1.5205385306652688,
          -1.449916223416027,
          -1.4204205116351076,
          -1.3551148509839823,
          -1.3025342839800342,
          -1.253925958400583,
          -1.2537197644558566,
          -1.111568758117079,
          -1.0940168992082482,
          -1.0882593498322333,
          -1.0848073380335101,
          -1.0494498240304013,
          -1.0417524373321103,
          -1.0325908363981933,
          -1.0317789139539983,
          -1.0028310834045002,
          -0.9928708166985434,
          -0.9682334891393776,
          -0.8854141430535543,
          -0.8606380224901296,
          -0.8409941883449279,
          -0.7964867607329214,
          -0.7425760756946933,
          -0.7279861001125445,
          -0.7168797401130567,
          -0.7071882719169791,
          -0.6495393143854882,
          -0.6438808358051973,
          -0.635734595798966,
          -0.6031617015493564,
          -0.5454815904828241,
          -0.5288674691229871,
          -0.45305861479785037,
          -0.35846830785748107,
          -0.33035598740488403,
          -0.29156884549497475,
          -0.04218895888974794,
          -0.011005976430458198,
          0.010716092915445952,
          0.03428276465881108,
          0.042989210310262926,
          0.048372233197123915,
          0.07516248697346439,
          0.11860231342402594,
          0.1430987362990339,
          0.1573689676626029,
          0.22080324639784932,
          0.36357177275296726,
          0.4382573359195874,
          0.5292233223743179,
          0.5324058290930718,
          0.5336150260416939,
          0.5341188430435788,
          0.5456416450551216,
          0.5806911616377994,
          0.6399361841367162,
          0.6885421896235142,
          0.7102574473691297,
          0.7637509524098638,
          0.8120758355807114,
          0.9038227154809575,
          0.9128653944474383,
          1.0222045541721947,
          1.0464784613148703,
          1.1195021834304955,
          1.2146883075964579,
          1.2297606206562501,
          1.2324815182576678,
          1.2688888008048633,
          1.2720590636899725,
          1.3412099823569519,
          1.4429223330253738,
          1.4858423607508708,
          1.509357413523924,
          1.5483456970604692,
          1.570235993959911,
          1.584365199693973,
          1.5884410398103084,
          1.588863031813307,
          1.6016722286533218,
          1.630265895704372,
          1.6330635438666148,
          1.6987744731142511,
          1.7187906093702923,
          1.746919954946938,
          1.7716388156500766,
          1.849789179768445,
          1.8871283308838427,
          1.9426018164424028
         ],
         "xaxis": "x",
         "y": [
          -3.9363238662884994,
          -5.590279126464426,
          -3.807818759295299,
          -2.676625164262036,
          -0.3086403744631321,
          -1.7160849633289232,
          -0.0957388337609052,
          -1.0975407077330983,
          0.29282890536573436,
          1.2544180935457183,
          -0.10320677109341225,
          0.5443012964452498,
          1.5441461218242083,
          0.16442288678302086,
          1.156877578932995,
          1.2125129637651264,
          2.632347371451147,
          1.7977833623775872,
          3.64545323203889,
          4.312885502864315,
          3.2562685370646807,
          2.280019766294453,
          3.936080789305695,
          4.441467083192276,
          3.2989548106083904,
          3.9297459785949105,
          3.966719110714101,
          2.2718560094100315,
          1.5497807739522131,
          4.290421289443383,
          2.881209566566554,
          4.948367471198887,
          4.2203646610684125,
          4.164018534885576,
          4.153953621152956,
          3.395771375519139,
          3.8110341700121895,
          4.602016880757954,
          3.4124037408668024,
          3.9316347431519105,
          3.223845176443744,
          3.400986022565024,
          4.789849720509729,
          4.446221328748177,
          2.4565386061091132,
          2.535739336863579,
          4.999491320812226,
          2.1464402391502535,
          3.1951908789561636,
          1.8355993622066118,
          2.2171434918649235,
          2.056983193710103,
          2.4314934451359016,
          2.0035182423532976,
          1.972777115438488,
          3.4771671504336377,
          1.8752976415432077,
          3.4269744285960924,
          0.47767905537067934,
          2.3079578427402145,
          2.8152797852007483,
          1.8270575195379584,
          2.982746420608765,
          1.8450555588453974,
          2.384646985463049,
          2.19661322361093,
          2.2996803328250985,
          2.6276101153511315,
          2.803196013908229,
          1.425456058768285,
          0.6643071249757284,
          4.065301874312441,
          3.4509027576512623,
          3.214300105755477,
          6.478799364550248,
          3.7834407540567296,
          3.01358528590531,
          3.2530481598807763,
          3.75604679787521,
          2.864952348919788,
          3.278768569824797,
          3.6997031589094993,
          7.3406247512968745,
          6.8456108687020025,
          5.7730402742372995,
          4.210371150707528,
          4.777471132749499,
          6.138062961344063,
          6.239900082210504,
          6.704622215855957,
          4.759643350448465,
          8.104542800688824,
          7.3497414233999105,
          9.09996865284523,
          8.142377852998116,
          6.772483751257926,
          8.27093499658484,
          9.008706359494063,
          10.16295523175209,
          10.626031641662994
         ],
         "yaxis": "y"
        },
        {
         "hovertemplate": "scam=%{x}<br>yn=%{y}<extra></extra>",
         "legendgroup": "",
         "line": {
          "color": "red",
          "dash": "solid"
         },
         "marker": {
          "symbol": "circle"
         },
         "mode": "lines",
         "name": "",
         "orientation": "v",
         "showlegend": false,
         "type": "scatter",
         "x": [
          -1.9721914778752372,
          -1.9336486842885754,
          -1.874283257253063,
          -1.8524522105818688,
          -1.8368994337809443,
          -1.7940849950000426,
          -1.692080360684828,
          -1.6388409197823668,
          -1.6275889287764032,
          -1.559792301889293,
          -1.5461059150376437,
          -1.5205385306652688,
          -1.449916223416027,
          -1.4204205116351076,
          -1.3551148509839823,
          -1.3025342839800342,
          -1.253925958400583,
          -1.2537197644558566,
          -1.111568758117079,
          -1.0940168992082482,
          -1.0882593498322333,
          -1.0848073380335101,
          -1.0494498240304013,
          -1.0417524373321103,
          -1.0325908363981933,
          -1.0317789139539983,
          -1.0028310834045002,
          -0.9928708166985434,
          -0.9682334891393776,
          -0.8854141430535543,
          -0.8606380224901296,
          -0.8409941883449279,
          -0.7964867607329214,
          -0.7425760756946933,
          -0.7279861001125445,
          -0.7168797401130567,
          -0.7071882719169791,
          -0.6495393143854882,
          -0.6438808358051973,
          -0.635734595798966,
          -0.6031617015493564,
          -0.5454815904828241,
          -0.5288674691229871,
          -0.45305861479785037,
          -0.35846830785748107,
          -0.33035598740488403,
          -0.29156884549497475,
          -0.04218895888974794,
          -0.011005976430458198,
          0.010716092915445952,
          0.03428276465881108,
          0.042989210310262926,
          0.048372233197123915,
          0.07516248697346439,
          0.11860231342402594,
          0.1430987362990339,
          0.1573689676626029,
          0.22080324639784932,
          0.36357177275296726,
          0.4382573359195874,
          0.5292233223743179,
          0.5324058290930718,
          0.5336150260416939,
          0.5341188430435788,
          0.5456416450551216,
          0.5806911616377994,
          0.6399361841367162,
          0.6885421896235142,
          0.7102574473691297,
          0.7637509524098638,
          0.8120758355807114,
          0.9038227154809575,
          0.9128653944474383,
          1.0222045541721947,
          1.0464784613148703,
          1.1195021834304955,
          1.2146883075964579,
          1.2297606206562501,
          1.2324815182576678,
          1.2688888008048633,
          1.2720590636899725,
          1.3412099823569519,
          1.4429223330253738,
          1.4858423607508708,
          1.509357413523924,
          1.5483456970604692,
          1.570235993959911,
          1.584365199693973,
          1.5884410398103084,
          1.588863031813307,
          1.6016722286533218,
          1.630265895704372,
          1.6330635438666148,
          1.6987744731142511,
          1.7187906093702923,
          1.746919954946938,
          1.7716388156500766,
          1.849789179768445,
          1.8871283308838427,
          1.9426018164424028
         ],
         "xaxis": "x",
         "y": [
          -4.5619912140535055,
          -3.9775632552747746,
          -3.127794037716808,
          -2.830350270207564,
          -2.6232989411366407,
          -2.0738723236772065,
          -0.8828234375033572,
          -0.3247154931955265,
          -0.21215837361472278,
          0.4272348445096945,
          0.5483935765124048,
          0.7677640817711007,
          1.3276875322422335,
          1.542092254740112,
          1.9775598972847055,
          2.2902577416944325,
          2.5504732320648245,
          2.5515195267350768,
          3.162980816795705,
          3.2239349058969493,
          3.2432666451867735,
          3.2547014365217746,
          3.365190278612528,
          3.387665031157373,
          3.4136912520752896,
          3.4159600276827016,
          3.4928861898023134,
          3.5175947881220195,
          3.5749233606098203,
          3.729636763075149,
          3.7650670027676867,
          3.7897718921914834,
          3.835047281339576,
          3.870946061586895,
          3.877262821822937,
          3.8811349233482426,
          3.883863082669062,
          3.8880163866658615,
          3.8873490520277585,
          3.8860629032480967,
          3.8771744090174556,
          3.8475009746320454,
          3.835847957016526,
          3.7666235798135013,
          3.647842103311762,
          3.6066318349246917,
          3.545957243654909,
          3.0842652790653764,
          3.0220099531049818,
          2.978569660037235,
          2.9314949098912915,
          2.9141407501263856,
          2.903425310925335,
          2.8503119604217027,
          2.7652978538711888,
          2.7181979299403705,
          2.691107926508646,
          2.5745410937998683,
          2.3449442479624274,
          2.2497491242942145,
          2.1638885338949505,
          2.161558755378907,
          2.1606862606142747,
          2.160324803485743,
          2.1523932883020453,
          2.1323332045154673,
          2.113226018055671,
          2.1125624290450835,
          2.1169358235337157,
          2.140759768028253,
          2.179154349661593,
          2.2998476340313436,
          2.3153371174706634,
          2.5577464971216473,
          2.626067873895527,
          2.8655788070019534,
          3.2589734019081806,
          3.3301498692948805,
          3.3432658709387115,
          3.526738813688176,
          3.543425403062753,
          3.936521765649508,
          4.620455584707256,
          4.948817886048055,
          5.139121251919288,
          5.471255105042573,
          5.6669855623750225,
          5.796910986527418,
          5.8349183712495485,
          5.838867021685835,
          5.959939757504242,
          6.238768289544067,
          6.266690180224634,
          6.956024563519906,
          7.179001723753794,
          7.502850382975063,
          7.797697372011296,
          8.794612615363858,
          9.306556437428616,
          10.110996374454334
         ],
         "yaxis": "y"
        }
       ],
       "layout": {
        "autosize": true,
        "legend": {
         "tracegroupgap": 0
        },
        "margin": {
         "t": 60
        },
        "template": {
         "data": {
          "bar": [
           {
            "error_x": {
             "color": "#2a3f5f"
            },
            "error_y": {
             "color": "#2a3f5f"
            },
            "marker": {
             "line": {
              "color": "#E5ECF6",
              "width": 0.5
             },
             "pattern": {
              "fillmode": "overlay",
              "size": 10,
              "solidity": 0.2
             }
            },
            "type": "bar"
           }
          ],
          "barpolar": [
           {
            "marker": {
             "line": {
              "color": "#E5ECF6",
              "width": 0.5
             },
             "pattern": {
              "fillmode": "overlay",
              "size": 10,
              "solidity": 0.2
             }
            },
            "type": "barpolar"
           }
          ],
          "carpet": [
           {
            "aaxis": {
             "endlinecolor": "#2a3f5f",
             "gridcolor": "white",
             "linecolor": "white",
             "minorgridcolor": "white",
             "startlinecolor": "#2a3f5f"
            },
            "baxis": {
             "endlinecolor": "#2a3f5f",
             "gridcolor": "white",
             "linecolor": "white",
             "minorgridcolor": "white",
             "startlinecolor": "#2a3f5f"
            },
            "type": "carpet"
           }
          ],
          "choropleth": [
           {
            "colorbar": {
             "outlinewidth": 0,
             "ticks": ""
            },
            "type": "choropleth"
           }
          ],
          "contour": [
           {
            "colorbar": {
             "outlinewidth": 0,
             "ticks": ""
            },
            "colorscale": [
             [
              0,
              "#0d0887"
             ],
             [
              0.1111111111111111,
              "#46039f"
             ],
             [
              0.2222222222222222,
              "#7201a8"
             ],
             [
              0.3333333333333333,
              "#9c179e"
             ],
             [
              0.4444444444444444,
              "#bd3786"
             ],
             [
              0.5555555555555556,
              "#d8576b"
             ],
             [
              0.6666666666666666,
              "#ed7953"
             ],
             [
              0.7777777777777778,
              "#fb9f3a"
             ],
             [
              0.8888888888888888,
              "#fdca26"
             ],
             [
              1,
              "#f0f921"
             ]
            ],
            "type": "contour"
           }
          ],
          "contourcarpet": [
           {
            "colorbar": {
             "outlinewidth": 0,
             "ticks": ""
            },
            "type": "contourcarpet"
           }
          ],
          "heatmap": [
           {
            "colorbar": {
             "outlinewidth": 0,
             "ticks": ""
            },
            "colorscale": [
             [
              0,
              "#0d0887"
             ],
             [
              0.1111111111111111,
              "#46039f"
             ],
             [
              0.2222222222222222,
              "#7201a8"
             ],
             [
              0.3333333333333333,
              "#9c179e"
             ],
             [
              0.4444444444444444,
              "#bd3786"
             ],
             [
              0.5555555555555556,
              "#d8576b"
             ],
             [
              0.6666666666666666,
              "#ed7953"
             ],
             [
              0.7777777777777778,
              "#fb9f3a"
             ],
             [
              0.8888888888888888,
              "#fdca26"
             ],
             [
              1,
              "#f0f921"
             ]
            ],
            "type": "heatmap"
           }
          ],
          "heatmapgl": [
           {
            "colorbar": {
             "outlinewidth": 0,
             "ticks": ""
            },
            "colorscale": [
             [
              0,
              "#0d0887"
             ],
             [
              0.1111111111111111,
              "#46039f"
             ],
             [
              0.2222222222222222,
              "#7201a8"
             ],
             [
              0.3333333333333333,
              "#9c179e"
             ],
             [
              0.4444444444444444,
              "#bd3786"
             ],
             [
              0.5555555555555556,
              "#d8576b"
             ],
             [
              0.6666666666666666,
              "#ed7953"
             ],
             [
              0.7777777777777778,
              "#fb9f3a"
             ],
             [
              0.8888888888888888,
              "#fdca26"
             ],
             [
              1,
              "#f0f921"
             ]
            ],
            "type": "heatmapgl"
           }
          ],
          "histogram": [
           {
            "marker": {
             "pattern": {
              "fillmode": "overlay",
              "size": 10,
              "solidity": 0.2
             }
            },
            "type": "histogram"
           }
          ],
          "histogram2d": [
           {
            "colorbar": {
             "outlinewidth": 0,
             "ticks": ""
            },
            "colorscale": [
             [
              0,
              "#0d0887"
             ],
             [
              0.1111111111111111,
              "#46039f"
             ],
             [
              0.2222222222222222,
              "#7201a8"
             ],
             [
              0.3333333333333333,
              "#9c179e"
             ],
             [
              0.4444444444444444,
              "#bd3786"
             ],
             [
              0.5555555555555556,
              "#d8576b"
             ],
             [
              0.6666666666666666,
              "#ed7953"
             ],
             [
              0.7777777777777778,
              "#fb9f3a"
             ],
             [
              0.8888888888888888,
              "#fdca26"
             ],
             [
              1,
              "#f0f921"
             ]
            ],
            "type": "histogram2d"
           }
          ],
          "histogram2dcontour": [
           {
            "colorbar": {
             "outlinewidth": 0,
             "ticks": ""
            },
            "colorscale": [
             [
              0,
              "#0d0887"
             ],
             [
              0.1111111111111111,
              "#46039f"
             ],
             [
              0.2222222222222222,
              "#7201a8"
             ],
             [
              0.3333333333333333,
              "#9c179e"
             ],
             [
              0.4444444444444444,
              "#bd3786"
             ],
             [
              0.5555555555555556,
              "#d8576b"
             ],
             [
              0.6666666666666666,
              "#ed7953"
             ],
             [
              0.7777777777777778,
              "#fb9f3a"
             ],
             [
              0.8888888888888888,
              "#fdca26"
             ],
             [
              1,
              "#f0f921"
             ]
            ],
            "type": "histogram2dcontour"
           }
          ],
          "mesh3d": [
           {
            "colorbar": {
             "outlinewidth": 0,
             "ticks": ""
            },
            "type": "mesh3d"
           }
          ],
          "parcoords": [
           {
            "line": {
             "colorbar": {
              "outlinewidth": 0,
              "ticks": ""
             }
            },
            "type": "parcoords"
           }
          ],
          "pie": [
           {
            "automargin": true,
            "type": "pie"
           }
          ],
          "scatter": [
           {
            "fillpattern": {
             "fillmode": "overlay",
             "size": 10,
             "solidity": 0.2
            },
            "type": "scatter"
           }
          ],
          "scatter3d": [
           {
            "line": {
             "colorbar": {
              "outlinewidth": 0,
              "ticks": ""
             }
            },
            "marker": {
             "colorbar": {
              "outlinewidth": 0,
              "ticks": ""
             }
            },
            "type": "scatter3d"
           }
          ],
          "scattercarpet": [
           {
            "marker": {
             "colorbar": {
              "outlinewidth": 0,
              "ticks": ""
             }
            },
            "type": "scattercarpet"
           }
          ],
          "scattergeo": [
           {
            "marker": {
             "colorbar": {
              "outlinewidth": 0,
              "ticks": ""
             }
            },
            "type": "scattergeo"
           }
          ],
          "scattergl": [
           {
            "marker": {
             "colorbar": {
              "outlinewidth": 0,
              "ticks": ""
             }
            },
            "type": "scattergl"
           }
          ],
          "scattermapbox": [
           {
            "marker": {
             "colorbar": {
              "outlinewidth": 0,
              "ticks": ""
             }
            },
            "type": "scattermapbox"
           }
          ],
          "scatterpolar": [
           {
            "marker": {
             "colorbar": {
              "outlinewidth": 0,
              "ticks": ""
             }
            },
            "type": "scatterpolar"
           }
          ],
          "scatterpolargl": [
           {
            "marker": {
             "colorbar": {
              "outlinewidth": 0,
              "ticks": ""
             }
            },
            "type": "scatterpolargl"
           }
          ],
          "scatterternary": [
           {
            "marker": {
             "colorbar": {
              "outlinewidth": 0,
              "ticks": ""
             }
            },
            "type": "scatterternary"
           }
          ],
          "surface": [
           {
            "colorbar": {
             "outlinewidth": 0,
             "ticks": ""
            },
            "colorscale": [
             [
              0,
              "#0d0887"
             ],
             [
              0.1111111111111111,
              "#46039f"
             ],
             [
              0.2222222222222222,
              "#7201a8"
             ],
             [
              0.3333333333333333,
              "#9c179e"
             ],
             [
              0.4444444444444444,
              "#bd3786"
             ],
             [
              0.5555555555555556,
              "#d8576b"
             ],
             [
              0.6666666666666666,
              "#ed7953"
             ],
             [
              0.7777777777777778,
              "#fb9f3a"
             ],
             [
              0.8888888888888888,
              "#fdca26"
             ],
             [
              1,
              "#f0f921"
             ]
            ],
            "type": "surface"
           }
          ],
          "table": [
           {
            "cells": {
             "fill": {
              "color": "#EBF0F8"
             },
             "line": {
              "color": "white"
             }
            },
            "header": {
             "fill": {
              "color": "#C8D4E3"
             },
             "line": {
              "color": "white"
             }
            },
            "type": "table"
           }
          ]
         },
         "layout": {
          "annotationdefaults": {
           "arrowcolor": "#2a3f5f",
           "arrowhead": 0,
           "arrowwidth": 1
          },
          "autotypenumbers": "strict",
          "coloraxis": {
           "colorbar": {
            "outlinewidth": 0,
            "ticks": ""
           }
          },
          "colorscale": {
           "diverging": [
            [
             0,
             "#8e0152"
            ],
            [
             0.1,
             "#c51b7d"
            ],
            [
             0.2,
             "#de77ae"
            ],
            [
             0.3,
             "#f1b6da"
            ],
            [
             0.4,
             "#fde0ef"
            ],
            [
             0.5,
             "#f7f7f7"
            ],
            [
             0.6,
             "#e6f5d0"
            ],
            [
             0.7,
             "#b8e186"
            ],
            [
             0.8,
             "#7fbc41"
            ],
            [
             0.9,
             "#4d9221"
            ],
            [
             1,
             "#276419"
            ]
           ],
           "sequential": [
            [
             0,
             "#0d0887"
            ],
            [
             0.1111111111111111,
             "#46039f"
            ],
            [
             0.2222222222222222,
             "#7201a8"
            ],
            [
             0.3333333333333333,
             "#9c179e"
            ],
            [
             0.4444444444444444,
             "#bd3786"
            ],
            [
             0.5555555555555556,
             "#d8576b"
            ],
            [
             0.6666666666666666,
             "#ed7953"
            ],
            [
             0.7777777777777778,
             "#fb9f3a"
            ],
            [
             0.8888888888888888,
             "#fdca26"
            ],
            [
             1,
             "#f0f921"
            ]
           ],
           "sequentialminus": [
            [
             0,
             "#0d0887"
            ],
            [
             0.1111111111111111,
             "#46039f"
            ],
            [
             0.2222222222222222,
             "#7201a8"
            ],
            [
             0.3333333333333333,
             "#9c179e"
            ],
            [
             0.4444444444444444,
             "#bd3786"
            ],
            [
             0.5555555555555556,
             "#d8576b"
            ],
            [
             0.6666666666666666,
             "#ed7953"
            ],
            [
             0.7777777777777778,
             "#fb9f3a"
            ],
            [
             0.8888888888888888,
             "#fdca26"
            ],
            [
             1,
             "#f0f921"
            ]
           ]
          },
          "colorway": [
           "#636efa",
           "#EF553B",
           "#00cc96",
           "#ab63fa",
           "#FFA15A",
           "#19d3f3",
           "#FF6692",
           "#B6E880",
           "#FF97FF",
           "#FECB52"
          ],
          "font": {
           "color": "#2a3f5f"
          },
          "geo": {
           "bgcolor": "white",
           "lakecolor": "white",
           "landcolor": "#E5ECF6",
           "showlakes": true,
           "showland": true,
           "subunitcolor": "white"
          },
          "hoverlabel": {
           "align": "left"
          },
          "hovermode": "closest",
          "mapbox": {
           "style": "light"
          },
          "paper_bgcolor": "white",
          "plot_bgcolor": "#E5ECF6",
          "polar": {
           "angularaxis": {
            "gridcolor": "white",
            "linecolor": "white",
            "ticks": ""
           },
           "bgcolor": "#E5ECF6",
           "radialaxis": {
            "gridcolor": "white",
            "linecolor": "white",
            "ticks": ""
           }
          },
          "scene": {
           "xaxis": {
            "backgroundcolor": "#E5ECF6",
            "gridcolor": "white",
            "gridwidth": 2,
            "linecolor": "white",
            "showbackground": true,
            "ticks": "",
            "zerolinecolor": "white"
           },
           "yaxis": {
            "backgroundcolor": "#E5ECF6",
            "gridcolor": "white",
            "gridwidth": 2,
            "linecolor": "white",
            "showbackground": true,
            "ticks": "",
            "zerolinecolor": "white"
           },
           "zaxis": {
            "backgroundcolor": "#E5ECF6",
            "gridcolor": "white",
            "gridwidth": 2,
            "linecolor": "white",
            "showbackground": true,
            "ticks": "",
            "zerolinecolor": "white"
           }
          },
          "shapedefaults": {
           "line": {
            "color": "#2a3f5f"
           }
          },
          "ternary": {
           "aaxis": {
            "gridcolor": "white",
            "linecolor": "white",
            "ticks": ""
           },
           "baxis": {
            "gridcolor": "white",
            "linecolor": "white",
            "ticks": ""
           },
           "bgcolor": "#E5ECF6",
           "caxis": {
            "gridcolor": "white",
            "linecolor": "white",
            "ticks": ""
           }
          },
          "title": {
           "x": 0.05
          },
          "xaxis": {
           "automargin": true,
           "gridcolor": "white",
           "linecolor": "white",
           "ticks": "",
           "title": {
            "standoff": 15
           },
           "zerolinecolor": "white",
           "zerolinewidth": 2
          },
          "yaxis": {
           "automargin": true,
           "gridcolor": "white",
           "linecolor": "white",
           "ticks": "",
           "title": {
            "standoff": 15
           },
           "zerolinecolor": "white",
           "zerolinewidth": 2
          }
         }
        },
        "xaxis": {
         "anchor": "y",
         "autorange": true,
         "domain": [
          0,
          1
         ],
         "range": [
          -2.2292809622435117,
          2.1996913008106773
         ],
         "title": {
          "text": "scam"
         },
         "type": "linear"
        },
        "yaxis": {
         "anchor": "x",
         "autorange": true,
         "domain": [
          0,
          1
         ],
         "range": [
          -6.8458727423693055,
          11.881625257567872
         ],
         "title": {
          "text": "to_multiple"
         },
         "type": "linear"
        }
       }
      },
      "image/png": "[encoded data removed]",
      "text/html": [
       "<div>                            <div id=\"e07c4dea-5421-4acc-8971-8085ca7d6926\" class=\"plotly-graph-div\" style=\"height:525px; width:100%;\"></div>            <script type=\"text/javascript\">                require([\"plotly\"], function(Plotly) {                    window.PLOTLYENV=window.PLOTLYENV || {};                                    if (document.getElementById(\"e07c4dea-5421-4acc-8971-8085ca7d6926\")) {                    Plotly.newPlot(                        \"e07c4dea-5421-4acc-8971-8085ca7d6926\",                        [{\"hovertemplate\":\"scam=%{x}\\u003cbr\\u003eto_multiple=%{y}\\u003cextra\\u003e\\u003c\\u002fextra\\u003e\",\"legendgroup\":\"\",\"marker\":{\"color\":\"#636efa\",\"symbol\":\"circle\"},\"mode\":\"markers\",\"name\":\"\",\"orientation\":\"v\",\"showlegend\":false,\"x\":[-1.9721914778752372,-1.9336486842885754,-1.874283257253063,-1.8524522105818688,-1.8368994337809443,-1.7940849950000426,-1.692080360684828,-1.6388409197823668,-1.6275889287764032,-1.559792301889293,-1.5461059150376437,-1.5205385306652688,-1.449916223416027,-1.4204205116351076,-1.3551148509839823,-1.3025342839800342,-1.253925958400583,-1.2537197644558566,-1.111568758117079,-1.0940168992082482,-1.0882593498322333,-1.0848073380335101,-1.0494498240304013,-1.0417524373321103,-1.0325908363981933,-1.0317789139539983,-1.0028310834045002,-0.9928708166985434,-0.9682334891393776,-0.8854141430535543,-0.8606380224901296,-0.8409941883449279,-0.7964867607329214,-0.7425760756946933,-0.7279861001125445,-0.7168797401130567,-0.7071882719169791,-0.6495393143854882,-0.6438808358051973,-0.635734595798966,-0.6031617015493564,-0.5454815904828241,-0.5288674691229871,-0.45305861479785037,-0.35846830785748107,-0.33035598740488403,-0.29156884549497475,-0.04218895888974794,-0.011005976430458198,0.010716092915445952,0.03428276465881108,0.042989210310262926,0.048372233197123915,0.07516248697346439,0.11860231342402594,0.1430987362990339,0.1573689676626029,0.22080324639784932,0.36357177275296726,0.4382573359195874,0.5292233223743179,0.5324058290930718,0.5336150260416939,0.5341188430435788,0.5456416450551216,0.5806911616377994,0.6399361841367162,0.6885421896235142,0.7102574473691297,0.7637509524098638,0.8120758355807114,0.9038227154809575,0.9128653944474383,1.0222045541721947,1.0464784613148703,1.1195021834304955,1.2146883075964579,1.2297606206562501,1.2324815182576678,1.2688888008048633,1.2720590636899725,1.3412099823569519,1.4429223330253738,1.4858423607508708,1.509357413523924,1.5483456970604692,1.570235993959911,1.584365199693973,1.5884410398103084,1.588863031813307,1.6016722286533218,1.630265895704372,1.6330635438666148,1.6987744731142511,1.7187906093702923,1.746919954946938,1.7716388156500766,1.849789179768445,1.8871283308838427,1.9426018164424028],\"xaxis\":\"x\",\"y\":[-3.9363238662884994,-5.590279126464426,-3.807818759295299,-2.676625164262036,-0.3086403744631321,-1.7160849633289232,-0.0957388337609052,-1.0975407077330983,0.29282890536573436,1.2544180935457183,-0.10320677109341225,0.5443012964452498,1.5441461218242083,0.16442288678302086,1.156877578932995,1.2125129637651264,2.632347371451147,1.7977833623775872,3.64545323203889,4.312885502864315,3.2562685370646807,2.280019766294453,3.936080789305695,4.441467083192276,3.2989548106083904,3.9297459785949105,3.966719110714101,2.2718560094100315,1.5497807739522131,4.290421289443383,2.881209566566554,4.948367471198887,4.2203646610684125,4.164018534885576,4.153953621152956,3.395771375519139,3.8110341700121895,4.602016880757954,3.4124037408668024,3.9316347431519105,3.223845176443744,3.400986022565024,4.789849720509729,4.446221328748177,2.4565386061091132,2.535739336863579,4.999491320812226,2.1464402391502535,3.1951908789561636,1.8355993622066118,2.2171434918649235,2.056983193710103,2.4314934451359016,2.0035182423532976,1.972777115438488,3.4771671504336377,1.8752976415432077,3.4269744285960924,0.47767905537067934,2.3079578427402145,2.8152797852007483,1.8270575195379584,2.982746420608765,1.8450555588453974,2.384646985463049,2.19661322361093,2.2996803328250985,2.6276101153511315,2.803196013908229,1.425456058768285,0.6643071249757284,4.065301874312441,3.4509027576512623,3.214300105755477,6.478799364550248,3.7834407540567296,3.01358528590531,3.2530481598807763,3.75604679787521,2.864952348919788,3.278768569824797,3.6997031589094993,7.3406247512968745,6.8456108687020025,5.7730402742372995,4.210371150707528,4.777471132749499,6.138062961344063,6.239900082210504,6.704622215855957,4.759643350448465,8.104542800688824,7.3497414233999105,9.09996865284523,8.142377852998116,6.772483751257926,8.27093499658484,9.008706359494063,10.16295523175209,10.626031641662994],\"yaxis\":\"y\",\"type\":\"scatter\"},{\"hovertemplate\":\"scam=%{x}\\u003cbr\\u003eyn=%{y}\\u003cextra\\u003e\\u003c\\u002fextra\\u003e\",\"legendgroup\":\"\",\"line\":{\"color\":\"red\",\"dash\":\"solid\"},\"marker\":{\"symbol\":\"circle\"},\"mode\":\"lines\",\"name\":\"\",\"orientation\":\"v\",\"showlegend\":false,\"x\":[-1.9721914778752372,-1.9336486842885754,-1.874283257253063,-1.8524522105818688,-1.8368994337809443,-1.7940849950000426,-1.692080360684828,-1.6388409197823668,-1.6275889287764032,-1.559792301889293,-1.5461059150376437,-1.5205385306652688,-1.449916223416027,-1.4204205116351076,-1.3551148509839823,-1.3025342839800342,-1.253925958400583,-1.2537197644558566,-1.111568758117079,-1.0940168992082482,-1.0882593498322333,-1.0848073380335101,-1.0494498240304013,-1.0417524373321103,-1.0325908363981933,-1.0317789139539983,-1.0028310834045002,-0.9928708166985434,-0.9682334891393776,-0.8854141430535543,-0.8606380224901296,-0.8409941883449279,-0.7964867607329214,-0.7425760756946933,-0.7279861001125445,-0.7168797401130567,-0.7071882719169791,-0.6495393143854882,-0.6438808358051973,-0.635734595798966,-0.6031617015493564,-0.5454815904828241,-0.5288674691229871,-0.45305861479785037,-0.35846830785748107,-0.33035598740488403,-0.29156884549497475,-0.04218895888974794,-0.011005976430458198,0.010716092915445952,0.03428276465881108,0.042989210310262926,0.048372233197123915,0.07516248697346439,0.11860231342402594,0.1430987362990339,0.1573689676626029,0.22080324639784932,0.36357177275296726,0.4382573359195874,0.5292233223743179,0.5324058290930718,0.5336150260416939,0.5341188430435788,0.5456416450551216,0.5806911616377994,0.6399361841367162,0.6885421896235142,0.7102574473691297,0.7637509524098638,0.8120758355807114,0.9038227154809575,0.9128653944474383,1.0222045541721947,1.0464784613148703,1.1195021834304955,1.2146883075964579,1.2297606206562501,1.2324815182576678,1.2688888008048633,1.2720590636899725,1.3412099823569519,1.4429223330253738,1.4858423607508708,1.509357413523924,1.5483456970604692,1.570235993959911,1.584365199693973,1.5884410398103084,1.588863031813307,1.6016722286533218,1.630265895704372,1.6330635438666148,1.6987744731142511,1.7187906093702923,1.746919954946938,1.7716388156500766,1.849789179768445,1.8871283308838427,1.9426018164424028],\"xaxis\":\"x\",\"y\":[-4.5619912140535055,-3.9775632552747746,-3.127794037716808,-2.830350270207564,-2.6232989411366407,-2.0738723236772065,-0.8828234375033572,-0.3247154931955265,-0.21215837361472278,0.4272348445096945,0.5483935765124048,0.7677640817711007,1.3276875322422335,1.542092254740112,1.9775598972847055,2.2902577416944325,2.5504732320648245,2.5515195267350768,3.162980816795705,3.2239349058969493,3.2432666451867735,3.2547014365217746,3.365190278612528,3.387665031157373,3.4136912520752896,3.4159600276827016,3.4928861898023134,3.5175947881220195,3.5749233606098203,3.729636763075149,3.7650670027676867,3.7897718921914834,3.835047281339576,3.870946061586895,3.877262821822937,3.8811349233482426,3.883863082669062,3.8880163866658615,3.8873490520277585,3.8860629032480967,3.8771744090174556,3.8475009746320454,3.835847957016526,3.7666235798135013,3.647842103311762,3.6066318349246917,3.545957243654909,3.0842652790653764,3.0220099531049818,2.978569660037235,2.9314949098912915,2.9141407501263856,2.903425310925335,2.8503119604217027,2.7652978538711888,2.7181979299403705,2.691107926508646,2.5745410937998683,2.3449442479624274,2.2497491242942145,2.1638885338949505,2.161558755378907,2.1606862606142747,2.160324803485743,2.1523932883020453,2.1323332045154673,2.113226018055671,2.1125624290450835,2.1169358235337157,2.140759768028253,2.179154349661593,2.2998476340313436,2.3153371174706634,2.5577464971216473,2.626067873895527,2.8655788070019534,3.2589734019081806,3.3301498692948805,3.3432658709387115,3.526738813688176,3.543425403062753,3.936521765649508,4.620455584707256,4.948817886048055,5.139121251919288,5.471255105042573,5.6669855623750225,5.796910986527418,5.8349183712495485,5.838867021685835,5.959939757504242,6.238768289544067,6.266690180224634,6.956024563519906,7.179001723753794,7.502850382975063,7.797697372011296,8.794612615363858,9.306556437428616,10.110996374454334],\"yaxis\":\"y\",\"type\":\"scatter\"}],                        {\"template\":{\"data\":{\"histogram2dcontour\":[{\"type\":\"histogram2dcontour\",\"colorbar\":{\"outlinewidth\":0,\"ticks\":\"\"},\"colorscale\":[[0.0,\"#0d0887\"],[0.1111111111111111,\"#46039f\"],[0.2222222222222222,\"#7201a8\"],[0.3333333333333333,\"#9c179e\"],[0.4444444444444444,\"#bd3786\"],[0.5555555555555556,\"#d8576b\"],[0.6666666666666666,\"#ed7953\"],[0.7777777777777778,\"#fb9f3a\"],[0.8888888888888888,\"#fdca26\"],[1.0,\"#f0f921\"]]}],\"choropleth\":[{\"type\":\"choropleth\",\"colorbar\":{\"outlinewidth\":0,\"ticks\":\"\"}}],\"histogram2d\":[{\"type\":\"histogram2d\",\"colorbar\":{\"outlinewidth\":0,\"ticks\":\"\"},\"colorscale\":[[0.0,\"#0d0887\"],[0.1111111111111111,\"#46039f\"],[0.2222222222222222,\"#7201a8\"],[0.3333333333333333,\"#9c179e\"],[0.4444444444444444,\"#bd3786\"],[0.5555555555555556,\"#d8576b\"],[0.6666666666666666,\"#ed7953\"],[0.7777777777777778,\"#fb9f3a\"],[0.8888888888888888,\"#fdca26\"],[1.0,\"#f0f921\"]]}],\"heatmap\":[{\"type\":\"heatmap\",\"colorbar\":{\"outlinewidth\":0,\"ticks\":\"\"},\"colorscale\":[[0.0,\"#0d0887\"],[0.1111111111111111,\"#46039f\"],[0.2222222222222222,\"#7201a8\"],[0.3333333333333333,\"#9c179e\"],[0.4444444444444444,\"#bd3786\"],[0.5555555555555556,\"#d8576b\"],[0.6666666666666666,\"#ed7953\"],[0.7777777777777778,\"#fb9f3a\"],[0.8888888888888888,\"#fdca26\"],[1.0,\"#f0f921\"]]}],\"heatmapgl\":[{\"type\":\"heatmapgl\",\"colorbar\":{\"outlinewidth\":0,\"ticks\":\"\"},\"colorscale\":[[0.0,\"#0d0887\"],[0.1111111111111111,\"#46039f\"],[0.2222222222222222,\"#7201a8\"],[0.3333333333333333,\"#9c179e\"],[0.4444444444444444,\"#bd3786\"],[0.5555555555555556,\"#d8576b\"],[0.6666666666666666,\"#ed7953\"],[0.7777777777777778,\"#fb9f3a\"],[0.8888888888888888,\"#fdca26\"],[1.0,\"#f0f921\"]]}],\"contourcarpet\":[{\"type\":\"contourcarpet\",\"colorbar\":{\"outlinewidth\":0,\"ticks\":\"\"}}],\"contour\":[{\"type\":\"contour\",\"colorbar\":{\"outlinewidth\":0,\"ticks\":\"\"},\"colorscale\":[[0.0,\"#0d0887\"],[0.1111111111111111,\"#46039f\"],[0.2222222222222222,\"#7201a8\"],[0.3333333333333333,\"#9c179e\"],[0.4444444444444444,\"#bd3786\"],[0.5555555555555556,\"#d8576b\"],[0.6666666666666666,\"#ed7953\"],[0.7777777777777778,\"#fb9f3a\"],[0.8888888888888888,\"#fdca26\"],[1.0,\"#f0f921\"]]}],\"surface\":[{\"type\":\"surface\",\"colorbar\":{\"outlinewidth\":0,\"ticks\":\"\"},\"colorscale\":[[0.0,\"#0d0887\"],[0.1111111111111111,\"#46039f\"],[0.2222222222222222,\"#7201a8\"],[0.3333333333333333,\"#9c179e\"],[0.4444444444444444,\"#bd3786\"],[0.5555555555555556,\"#d8576b\"],[0.6666666666666666,\"#ed7953\"],[0.7777777777777778,\"#fb9f3a\"],[0.8888888888888888,\"#fdca26\"],[1.0,\"#f0f921\"]]}],\"mesh3d\":[{\"type\":\"mesh3d\",\"colorbar\":{\"outlinewidth\":0,\"ticks\":\"\"}}],\"scatter\":[{\"fillpattern\":{\"fillmode\":\"overlay\",\"size\":10,\"solidity\":0.2},\"type\":\"scatter\"}],\"parcoords\":[{\"type\":\"parcoords\",\"line\":{\"colorbar\":{\"outlinewidth\":0,\"ticks\":\"\"}}}],\"scatterpolargl\":[{\"type\":\"scatterpolargl\",\"marker\":{\"colorbar\":{\"outlinewidth\":0,\"ticks\":\"\"}}}],\"bar\":[{\"error_x\":{\"color\":\"#2a3f5f\"},\"error_y\":{\"color\":\"#2a3f5f\"},\"marker\":{\"line\":{\"color\":\"#E5ECF6\",\"width\":0.5},\"pattern\":{\"fillmode\":\"overlay\",\"size\":10,\"solidity\":0.2}},\"type\":\"bar\"}],\"scattergeo\":[{\"type\":\"scattergeo\",\"marker\":{\"colorbar\":{\"outlinewidth\":0,\"ticks\":\"\"}}}],\"scatterpolar\":[{\"type\":\"scatterpolar\",\"marker\":{\"colorbar\":{\"outlinewidth\":0,\"ticks\":\"\"}}}],\"histogram\":[{\"marker\":{\"pattern\":{\"fillmode\":\"overlay\",\"size\":10,\"solidity\":0.2}},\"type\":\"histogram\"}],\"scattergl\":[{\"type\":\"scattergl\",\"marker\":{\"colorbar\":{\"outlinewidth\":0,\"ticks\":\"\"}}}],\"scatter3d\":[{\"type\":\"scatter3d\",\"line\":{\"colorbar\":{\"outlinewidth\":0,\"ticks\":\"\"}},\"marker\":{\"colorbar\":{\"outlinewidth\":0,\"ticks\":\"\"}}}],\"scattermapbox\":[{\"type\":\"scattermapbox\",\"marker\":{\"colorbar\":{\"outlinewidth\":0,\"ticks\":\"\"}}}],\"scatterternary\":[{\"type\":\"scatterternary\",\"marker\":{\"colorbar\":{\"outlinewidth\":0,\"ticks\":\"\"}}}],\"scattercarpet\":[{\"type\":\"scattercarpet\",\"marker\":{\"colorbar\":{\"outlinewidth\":0,\"ticks\":\"\"}}}],\"carpet\":[{\"aaxis\":{\"endlinecolor\":\"#2a3f5f\",\"gridcolor\":\"white\",\"linecolor\":\"white\",\"minorgridcolor\":\"white\",\"startlinecolor\":\"#2a3f5f\"},\"baxis\":{\"endlinecolor\":\"#2a3f5f\",\"gridcolor\":\"white\",\"linecolor\":\"white\",\"minorgridcolor\":\"white\",\"startlinecolor\":\"#2a3f5f\"},\"type\":\"carpet\"}],\"table\":[{\"cells\":{\"fill\":{\"color\":\"#EBF0F8\"},\"line\":{\"color\":\"white\"}},\"header\":{\"fill\":{\"color\":\"#C8D4E3\"},\"line\":{\"color\":\"white\"}},\"type\":\"table\"}],\"barpolar\":[{\"marker\":{\"line\":{\"color\":\"#E5ECF6\",\"width\":0.5},\"pattern\":{\"fillmode\":\"overlay\",\"size\":10,\"solidity\":0.2}},\"type\":\"barpolar\"}],\"pie\":[{\"automargin\":true,\"type\":\"pie\"}]},\"layout\":{\"autotypenumbers\":\"strict\",\"colorway\":[\"#636efa\",\"#EF553B\",\"#00cc96\",\"#ab63fa\",\"#FFA15A\",\"#19d3f3\",\"#FF6692\",\"#B6E880\",\"#FF97FF\",\"#FECB52\"],\"font\":{\"color\":\"#2a3f5f\"},\"hovermode\":\"closest\",\"hoverlabel\":{\"align\":\"left\"},\"paper_bgcolor\":\"white\",\"plot_bgcolor\":\"#E5ECF6\",\"polar\":{\"bgcolor\":\"#E5ECF6\",\"angularaxis\":{\"gridcolor\":\"white\",\"linecolor\":\"white\",\"ticks\":\"\"},\"radialaxis\":{\"gridcolor\":\"white\",\"linecolor\":\"white\",\"ticks\":\"\"}},\"ternary\":{\"bgcolor\":\"#E5ECF6\",\"aaxis\":{\"gridcolor\":\"white\",\"linecolor\":\"white\",\"ticks\":\"\"},\"baxis\":{\"gridcolor\":\"white\",\"linecolor\":\"white\",\"ticks\":\"\"},\"caxis\":{\"gridcolor\":\"white\",\"linecolor\":\"white\",\"ticks\":\"\"}},\"coloraxis\":{\"colorbar\":{\"outlinewidth\":0,\"ticks\":\"\"}},\"colorscale\":{\"sequential\":[[0.0,\"#0d0887\"],[0.1111111111111111,\"#46039f\"],[0.2222222222222222,\"#7201a8\"],[0.3333333333333333,\"#9c179e\"],[0.4444444444444444,\"#bd3786\"],[0.5555555555555556,\"#d8576b\"],[0.6666666666666666,\"#ed7953\"],[0.7777777777777778,\"#fb9f3a\"],[0.8888888888888888,\"#fdca26\"],[1.0,\"#f0f921\"]],\"sequentialminus\":[[0.0,\"#0d0887\"],[0.1111111111111111,\"#46039f\"],[0.2222222222222222,\"#7201a8\"],[0.3333333333333333,\"#9c179e\"],[0.4444444444444444,\"#bd3786\"],[0.5555555555555556,\"#d8576b\"],[0.6666666666666666,\"#ed7953\"],[0.7777777777777778,\"#fb9f3a\"],[0.8888888888888888,\"#fdca26\"],[1.0,\"#f0f921\"]],\"diverging\":[[0,\"#8e0152\"],[0.1,\"#c51b7d\"],[0.2,\"#de77ae\"],[0.3,\"#f1b6da\"],[0.4,\"#fde0ef\"],[0.5,\"#f7f7f7\"],[0.6,\"#e6f5d0\"],[0.7,\"#b8e186\"],[0.8,\"#7fbc41\"],[0.9,\"#4d9221\"],[1,\"#276419\"]]},\"xaxis\":{\"gridcolor\":\"white\",\"linecolor\":\"white\",\"ticks\":\"\",\"title\":{\"standoff\":15},\"zerolinecolor\":\"white\",\"automargin\":true,\"zerolinewidth\":2},\"yaxis\":{\"gridcolor\":\"white\",\"linecolor\":\"white\",\"ticks\":\"\",\"title\":{\"standoff\":15},\"zerolinecolor\":\"white\",\"automargin\":true,\"zerolinewidth\":2},\"scene\":{\"xaxis\":{\"backgroundcolor\":\"#E5ECF6\",\"gridcolor\":\"white\",\"linecolor\":\"white\",\"showbackground\":true,\"ticks\":\"\",\"zerolinecolor\":\"white\",\"gridwidth\":2},\"yaxis\":{\"backgroundcolor\":\"#E5ECF6\",\"gridcolor\":\"white\",\"linecolor\":\"white\",\"showbackground\":true,\"ticks\":\"\",\"zerolinecolor\":\"white\",\"gridwidth\":2},\"zaxis\":{\"backgroundcolor\":\"#E5ECF6\",\"gridcolor\":\"white\",\"linecolor\":\"white\",\"showbackground\":true,\"ticks\":\"\",\"zerolinecolor\":\"white\",\"gridwidth\":2}},\"shapedefaults\":{\"line\":{\"color\":\"#2a3f5f\"}},\"annotationdefaults\":{\"arrowcolor\":\"#2a3f5f\",\"arrowhead\":0,\"arrowwidth\":1},\"geo\":{\"bgcolor\":\"white\",\"landcolor\":\"#E5ECF6\",\"subunitcolor\":\"white\",\"showland\":true,\"showlakes\":true,\"lakecolor\":\"white\"},\"title\":{\"x\":0.05},\"mapbox\":{\"style\":\"light\"}}},\"xaxis\":{\"anchor\":\"y\",\"domain\":[0.0,1.0],\"title\":{\"text\":\"scam\"}},\"yaxis\":{\"anchor\":\"x\",\"domain\":[0.0,1.0],\"title\":{\"text\":\"to_multiple\"}},\"legend\":{\"tracegroupgap\":0},\"margin\":{\"t\":60}},                        {\"responsive\": true}                    ).then(function(){\n",
       "                            \n",
       "var gd = document.getElementById('e07c4dea-5421-4acc-8971-8085ca7d6926');\n",
       "var x = new MutationObserver(function (mutations, observer) {{\n",
       "        var display = window.getComputedStyle(gd).display;\n",
       "        if (!display || display === 'none') {{\n",
       "            console.log([gd, 'removed!']);\n",
       "            Plotly.purge(gd);\n",
       "            observer.disconnect();\n",
       "        }}\n",
       "}});\n",
       "\n",
       "// Listen for the removal of the full notebook cells\n",
       "var notebookContainer = gd.closest('#notebook-container');\n",
       "if (notebookContainer) {{\n",
       "    x.observe(notebookContainer, {childList: true});\n",
       "}}\n",
       "\n",
       "// Listen for the clearing of the current output cell\n",
       "var outputEl = gd.closest('.output');\n",
       "if (outputEl) {{\n",
       "    x.observe(outputEl, {childList: true});\n",
       "}}\n",
       "\n",
       "                        })                };                });            </script>        </div>"
      ]
     },
     "metadata": {},
     "output_type": "display_data"
    }
   ],
   "source": [
    "a = 1.5  \n",
    "b = -2.0  \n",
    "c = 3.0  \n",
    "num_points = 100  \n",
    "noise_level = 1.0  \n",
    "\n",
    "x = np.random.uniform(-2, 2, num_points)\n",
    "\n",
    "epsilon = np.random.normal(0, noise_level, num_points)\n",
    "y = a * x**3 + b * x + c + epsilon\n",
    "y_nonoise = a * x**3 + b * x + c\n",
    "\n",
    "DF = pd.DataFrame()\n",
    "DF['scam'] = x\n",
    "DF['to_multiple'] = y\n",
    "DF['yn'] = y_nonoise\n",
    "\n",
    "DF=DF.sort_values('scam')\n",
    "\n",
    "fig = px.scatter(DF,x='scam',y='to_multiple')\n",
    "fig.add_trace(\n",
    "    px.line(DF, x='scam', y='yn',color_discrete_sequence=['red']).data[0]\n",
    ")\n",
    "\n",
    "fig.show()"
   ]
  },
  {
   "cell_type": "markdown",
   "id": "4ec83d7a-5160-48ea-b794-69c567365e5b",
   "metadata": {},
   "source": [
    "This code creates a simple graph to show how a logistic regression model predicts whether an email is spam or not. The logistic function shows all the dots on the line, which represents how likely an email is to be spam. The graph shows this curve, with blue dots marking emails that the model predicts as spam. This helps visualize how the model’s predictions change as the input values change. The plot also includes titles and labels for clarity, making it easy to understand how the model classifies emails based on their probability of being spam."
   ]
  },
  {
   "cell_type": "markdown",
   "id": "927f9eb3-82c5-4a73-b983-567a816fcb61",
   "metadata": {},
   "source": [
    "**Exercise 2** - challenge Logistic Regression with MORE THAN ONE explanatory variable.\n",
    "\n",
    "Try redoing the analysis, but this time add a few more explanatory variables. Again do some analysis of the variables you are chosing and state why they are a good choice. Then answer again questions 1-5."
   ]
  },
  {
   "cell_type": "code",
   "execution_count": 327,
   "id": "abf1c78c-901e-4db3-a677-986936176f34",
   "metadata": {},
   "outputs": [
    {
     "data": {
      "application/vnd.plotly.v1+json": {
       "config": {
        "plotlyServerURL": "https://plot.ly"
       },
       "data": [
        {
         "hovertemplate": "scam=%{x}<br>Probability of Spam=%{y}<br>yn=%{marker.color}<extra></extra>",
         "legendgroup": "",
         "marker": {
          "color": [
           -4.5619912140535055,
           -3.9775632552747746,
           -3.127794037716808,
           -2.830350270207564,
           -2.6232989411366407,
           -2.0738723236772065,
           -0.8828234375033572,
           -0.3247154931955265,
           -0.21215837361472278,
           0.4272348445096945,
           0.5483935765124048,
           0.7677640817711007,
           1.3276875322422335,
           1.542092254740112,
           1.9775598972847055,
           2.2902577416944325,
           2.5504732320648245,
           2.5515195267350768,
           3.162980816795705,
           3.2239349058969493,
           3.2432666451867735,
           3.2547014365217746,
           3.365190278612528,
           3.387665031157373,
           3.4136912520752896,
           3.4159600276827016,
           3.4928861898023134,
           3.5175947881220195,
           3.5749233606098203,
           3.729636763075149,
           3.7650670027676867,
           3.7897718921914834,
           3.835047281339576,
           3.870946061586895,
           3.877262821822937,
           3.8811349233482426,
           3.883863082669062,
           3.8880163866658615,
           3.8873490520277585,
           3.8860629032480967,
           3.8771744090174556,
           3.8475009746320454,
           3.835847957016526,
           3.7666235798135013,
           3.647842103311762,
           3.6066318349246917,
           3.545957243654909,
           3.0842652790653764,
           3.0220099531049818,
           2.978569660037235,
           2.9314949098912915,
           2.9141407501263856,
           2.903425310925335,
           2.8503119604217027,
           2.7652978538711888,
           2.7181979299403705,
           2.691107926508646,
           2.5745410937998683,
           2.3449442479624274,
           2.2497491242942145,
           2.1638885338949505,
           2.161558755378907,
           2.1606862606142747,
           2.160324803485743,
           2.1523932883020453,
           2.1323332045154673,
           2.113226018055671,
           2.1125624290450835,
           2.1169358235337157,
           2.140759768028253,
           2.179154349661593,
           2.2998476340313436,
           2.3153371174706634,
           2.5577464971216473,
           2.626067873895527,
           2.8655788070019534,
           3.2589734019081806,
           3.3301498692948805,
           3.3432658709387115,
           3.526738813688176,
           3.543425403062753,
           3.936521765649508,
           4.620455584707256,
           4.948817886048055,
           5.139121251919288,
           5.471255105042573,
           5.6669855623750225,
           5.796910986527418,
           5.8349183712495485,
           5.838867021685835,
           5.959939757504242,
           6.238768289544067,
           6.266690180224634,
           6.956024563519906,
           7.179001723753794,
           7.502850382975063,
           7.797697372011296,
           8.794612615363858,
           9.306556437428616,
           10.110996374454334
          ],
          "coloraxis": "coloraxis",
          "symbol": "circle"
         },
         "mode": "markers",
         "name": "",
         "orientation": "v",
         "showlegend": false,
         "type": "scatter",
         "x": [
          -1.9721914778752372,
          -1.9336486842885754,
          -1.874283257253063,
          -1.8524522105818688,
          -1.8368994337809443,
          -1.7940849950000426,
          -1.692080360684828,
          -1.6388409197823668,
          -1.6275889287764032,
          -1.559792301889293,
          -1.5461059150376437,
          -1.5205385306652688,
          -1.449916223416027,
          -1.4204205116351076,
          -1.3551148509839823,
          -1.3025342839800342,
          -1.253925958400583,
          -1.2537197644558566,
          -1.111568758117079,
          -1.0940168992082482,
          -1.0882593498322333,
          -1.0848073380335101,
          -1.0494498240304013,
          -1.0417524373321103,
          -1.0325908363981933,
          -1.0317789139539983,
          -1.0028310834045002,
          -0.9928708166985434,
          -0.9682334891393776,
          -0.8854141430535543,
          -0.8606380224901296,
          -0.8409941883449279,
          -0.7964867607329214,
          -0.7425760756946933,
          -0.7279861001125445,
          -0.7168797401130567,
          -0.7071882719169791,
          -0.6495393143854882,
          -0.6438808358051973,
          -0.635734595798966,
          -0.6031617015493564,
          -0.5454815904828241,
          -0.5288674691229871,
          -0.45305861479785037,
          -0.35846830785748107,
          -0.33035598740488403,
          -0.29156884549497475,
          -0.04218895888974794,
          -0.011005976430458198,
          0.010716092915445952,
          0.03428276465881108,
          0.042989210310262926,
          0.048372233197123915,
          0.07516248697346439,
          0.11860231342402594,
          0.1430987362990339,
          0.1573689676626029,
          0.22080324639784932,
          0.36357177275296726,
          0.4382573359195874,
          0.5292233223743179,
          0.5324058290930718,
          0.5336150260416939,
          0.5341188430435788,
          0.5456416450551216,
          0.5806911616377994,
          0.6399361841367162,
          0.6885421896235142,
          0.7102574473691297,
          0.7637509524098638,
          0.8120758355807114,
          0.9038227154809575,
          0.9128653944474383,
          1.0222045541721947,
          1.0464784613148703,
          1.1195021834304955,
          1.2146883075964579,
          1.2297606206562501,
          1.2324815182576678,
          1.2688888008048633,
          1.2720590636899725,
          1.3412099823569519,
          1.4429223330253738,
          1.4858423607508708,
          1.509357413523924,
          1.5483456970604692,
          1.570235993959911,
          1.584365199693973,
          1.5884410398103084,
          1.588863031813307,
          1.6016722286533218,
          1.630265895704372,
          1.6330635438666148,
          1.6987744731142511,
          1.7187906093702923,
          1.746919954946938,
          1.7716388156500766,
          1.849789179768445,
          1.8871283308838427,
          1.9426018164424028
         ],
         "xaxis": "x",
         "y": [
          0.008665507612845546,
          0.9999999737416392,
          0.9998802383189425,
          0.9800354568104781,
          1.931069758112168e-06,
          1.929276364523605e-06,
          4.440028934512019e-08,
          0.9999993183582364,
          0.9818052440324139,
          0.9996990919297192,
          1.0472271783926216e-08,
          0.9999999874647215,
          0.9999975002121793,
          1.6904794647921097e-05,
          5.218261400655941e-06,
          5.545628731713901e-06,
          0.0005824599066142203,
          0.7401651737952379,
          0.07389176495172868,
          0.0003529083118574046,
          0.9878942705859746,
          1.0217521208272995e-06,
          0.00036557161367402634,
          0.006338595036778013,
          0.16811240226604574,
          0.9999845599127899,
          1.0378317819334623e-05,
          0.6550938803082816,
          0.9747439012802216,
          2.836397780198221e-08,
          0.9857401571330874,
          3.376510766113205e-06,
          5.8070727192465175e-08,
          0.9999999718251137,
          0.9999999852191248,
          0.9999936879648644,
          0.000590850859491485,
          2.0402584287806406e-07,
          0.9992465349103988,
          0.09865785626789474,
          5.21579221945776e-07,
          0.47686288307131247,
          1.7822828430817684e-08,
          0.9999998706487402,
          0.00010113700733388432,
          0.9982628104198257,
          0.0007764835153589993,
          0.703959284871544,
          0.8690423802118097,
          5.864184842070629e-06,
          0.9999999873066908,
          0.9999772666114602,
          0.9999999595520911,
          0.9999997739349371,
          0.9794556757279799,
          0.999999920246419,
          1.4325640626867095e-07,
          9.00284940017723e-06,
          2.7058565950301816e-08,
          0.0013114273496058872,
          0.014845243904333639,
          0.0001641186035137339,
          0.9999971167100457,
          0.0043863056573680255,
          0.00023740349359812382,
          0.8504183555493618,
          1.0796299728688918e-06,
          0.9999919850968461,
          8.372834131008027e-08,
          0.9999999934820007,
          0.9999745915029602,
          1.0002268251388936e-05,
          5.86210367686298e-09,
          0.9999951917074347,
          0.9996846753374095,
          0.9998656372000346,
          0.9999736196686448,
          8.211215498576694e-08,
          0.004683999059530565,
          4.112562861330557e-07,
          0.9999992327065307,
          0.9921766020283099,
          0.0016246254868594353,
          5.482465735721026e-08,
          0.0007550049736634308,
          0.0013040314232744513,
          0.999868701676989,
          0.9954680951448138,
          0.9999996968743465,
          0.273459581698874,
          4.7471545102109384e-07,
          0.9997534366655813,
          0.9999604916134401,
          0.9208283136700239,
          0.9999733097914557,
          0.46360831021201704,
          0.724895288388376,
          0.06308925372608401,
          1.2616018816675236e-08,
          3.0244754663763635e-07
         ],
         "yaxis": "y"
        },
        {
         "hovertemplate": "scam=%{x}<br>yn=%{y}<extra></extra>",
         "legendgroup": "",
         "line": {
          "color": "red",
          "dash": "solid"
         },
         "marker": {
          "symbol": "circle"
         },
         "mode": "lines",
         "name": "",
         "orientation": "v",
         "showlegend": false,
         "type": "scatter",
         "x": [
          -1.9721914778752372,
          -1.9336486842885754,
          -1.874283257253063,
          -1.8524522105818688,
          -1.8368994337809443,
          -1.7940849950000426,
          -1.692080360684828,
          -1.6388409197823668,
          -1.6275889287764032,
          -1.559792301889293,
          -1.5461059150376437,
          -1.5205385306652688,
          -1.449916223416027,
          -1.4204205116351076,
          -1.3551148509839823,
          -1.3025342839800342,
          -1.253925958400583,
          -1.2537197644558566,
          -1.111568758117079,
          -1.0940168992082482,
          -1.0882593498322333,
          -1.0848073380335101,
          -1.0494498240304013,
          -1.0417524373321103,
          -1.0325908363981933,
          -1.0317789139539983,
          -1.0028310834045002,
          -0.9928708166985434,
          -0.9682334891393776,
          -0.8854141430535543,
          -0.8606380224901296,
          -0.8409941883449279,
          -0.7964867607329214,
          -0.7425760756946933,
          -0.7279861001125445,
          -0.7168797401130567,
          -0.7071882719169791,
          -0.6495393143854882,
          -0.6438808358051973,
          -0.635734595798966,
          -0.6031617015493564,
          -0.5454815904828241,
          -0.5288674691229871,
          -0.45305861479785037,
          -0.35846830785748107,
          -0.33035598740488403,
          -0.29156884549497475,
          -0.04218895888974794,
          -0.011005976430458198,
          0.010716092915445952,
          0.03428276465881108,
          0.042989210310262926,
          0.048372233197123915,
          0.07516248697346439,
          0.11860231342402594,
          0.1430987362990339,
          0.1573689676626029,
          0.22080324639784932,
          0.36357177275296726,
          0.4382573359195874,
          0.5292233223743179,
          0.5324058290930718,
          0.5336150260416939,
          0.5341188430435788,
          0.5456416450551216,
          0.5806911616377994,
          0.6399361841367162,
          0.6885421896235142,
          0.7102574473691297,
          0.7637509524098638,
          0.8120758355807114,
          0.9038227154809575,
          0.9128653944474383,
          1.0222045541721947,
          1.0464784613148703,
          1.1195021834304955,
          1.2146883075964579,
          1.2297606206562501,
          1.2324815182576678,
          1.2688888008048633,
          1.2720590636899725,
          1.3412099823569519,
          1.4429223330253738,
          1.4858423607508708,
          1.509357413523924,
          1.5483456970604692,
          1.570235993959911,
          1.584365199693973,
          1.5884410398103084,
          1.588863031813307,
          1.6016722286533218,
          1.630265895704372,
          1.6330635438666148,
          1.6987744731142511,
          1.7187906093702923,
          1.746919954946938,
          1.7716388156500766,
          1.849789179768445,
          1.8871283308838427,
          1.9426018164424028
         ],
         "xaxis": "x",
         "y": [
          -4.5619912140535055,
          -3.9775632552747746,
          -3.127794037716808,
          -2.830350270207564,
          -2.6232989411366407,
          -2.0738723236772065,
          -0.8828234375033572,
          -0.3247154931955265,
          -0.21215837361472278,
          0.4272348445096945,
          0.5483935765124048,
          0.7677640817711007,
          1.3276875322422335,
          1.542092254740112,
          1.9775598972847055,
          2.2902577416944325,
          2.5504732320648245,
          2.5515195267350768,
          3.162980816795705,
          3.2239349058969493,
          3.2432666451867735,
          3.2547014365217746,
          3.365190278612528,
          3.387665031157373,
          3.4136912520752896,
          3.4159600276827016,
          3.4928861898023134,
          3.5175947881220195,
          3.5749233606098203,
          3.729636763075149,
          3.7650670027676867,
          3.7897718921914834,
          3.835047281339576,
          3.870946061586895,
          3.877262821822937,
          3.8811349233482426,
          3.883863082669062,
          3.8880163866658615,
          3.8873490520277585,
          3.8860629032480967,
          3.8771744090174556,
          3.8475009746320454,
          3.835847957016526,
          3.7666235798135013,
          3.647842103311762,
          3.6066318349246917,
          3.545957243654909,
          3.0842652790653764,
          3.0220099531049818,
          2.978569660037235,
          2.9314949098912915,
          2.9141407501263856,
          2.903425310925335,
          2.8503119604217027,
          2.7652978538711888,
          2.7181979299403705,
          2.691107926508646,
          2.5745410937998683,
          2.3449442479624274,
          2.2497491242942145,
          2.1638885338949505,
          2.161558755378907,
          2.1606862606142747,
          2.160324803485743,
          2.1523932883020453,
          2.1323332045154673,
          2.113226018055671,
          2.1125624290450835,
          2.1169358235337157,
          2.140759768028253,
          2.179154349661593,
          2.2998476340313436,
          2.3153371174706634,
          2.5577464971216473,
          2.626067873895527,
          2.8655788070019534,
          3.2589734019081806,
          3.3301498692948805,
          3.3432658709387115,
          3.526738813688176,
          3.543425403062753,
          3.936521765649508,
          4.620455584707256,
          4.948817886048055,
          5.139121251919288,
          5.471255105042573,
          5.6669855623750225,
          5.796910986527418,
          5.8349183712495485,
          5.838867021685835,
          5.959939757504242,
          6.238768289544067,
          6.266690180224634,
          6.956024563519906,
          7.179001723753794,
          7.502850382975063,
          7.797697372011296,
          8.794612615363858,
          9.306556437428616,
          10.110996374454334
         ],
         "yaxis": "y"
        }
       ],
       "layout": {
        "autosize": true,
        "coloraxis": {
         "colorbar": {
          "title": {
           "text": "yn"
          }
         },
         "colorscale": [
          [
           0,
           "blue"
          ],
          [
           1,
           "red"
          ]
         ]
        },
        "legend": {
         "tracegroupgap": 0
        },
        "template": {
         "data": {
          "bar": [
           {
            "error_x": {
             "color": "#2a3f5f"
            },
            "error_y": {
             "color": "#2a3f5f"
            },
            "marker": {
             "line": {
              "color": "#E5ECF6",
              "width": 0.5
             },
             "pattern": {
              "fillmode": "overlay",
              "size": 10,
              "solidity": 0.2
             }
            },
            "type": "bar"
           }
          ],
          "barpolar": [
           {
            "marker": {
             "line": {
              "color": "#E5ECF6",
              "width": 0.5
             },
             "pattern": {
              "fillmode": "overlay",
              "size": 10,
              "solidity": 0.2
             }
            },
            "type": "barpolar"
           }
          ],
          "carpet": [
           {
            "aaxis": {
             "endlinecolor": "#2a3f5f",
             "gridcolor": "white",
             "linecolor": "white",
             "minorgridcolor": "white",
             "startlinecolor": "#2a3f5f"
            },
            "baxis": {
             "endlinecolor": "#2a3f5f",
             "gridcolor": "white",
             "linecolor": "white",
             "minorgridcolor": "white",
             "startlinecolor": "#2a3f5f"
            },
            "type": "carpet"
           }
          ],
          "choropleth": [
           {
            "colorbar": {
             "outlinewidth": 0,
             "ticks": ""
            },
            "type": "choropleth"
           }
          ],
          "contour": [
           {
            "colorbar": {
             "outlinewidth": 0,
             "ticks": ""
            },
            "colorscale": [
             [
              0,
              "#0d0887"
             ],
             [
              0.1111111111111111,
              "#46039f"
             ],
             [
              0.2222222222222222,
              "#7201a8"
             ],
             [
              0.3333333333333333,
              "#9c179e"
             ],
             [
              0.4444444444444444,
              "#bd3786"
             ],
             [
              0.5555555555555556,
              "#d8576b"
             ],
             [
              0.6666666666666666,
              "#ed7953"
             ],
             [
              0.7777777777777778,
              "#fb9f3a"
             ],
             [
              0.8888888888888888,
              "#fdca26"
             ],
             [
              1,
              "#f0f921"
             ]
            ],
            "type": "contour"
           }
          ],
          "contourcarpet": [
           {
            "colorbar": {
             "outlinewidth": 0,
             "ticks": ""
            },
            "type": "contourcarpet"
           }
          ],
          "heatmap": [
           {
            "colorbar": {
             "outlinewidth": 0,
             "ticks": ""
            },
            "colorscale": [
             [
              0,
              "#0d0887"
             ],
             [
              0.1111111111111111,
              "#46039f"
             ],
             [
              0.2222222222222222,
              "#7201a8"
             ],
             [
              0.3333333333333333,
              "#9c179e"
             ],
             [
              0.4444444444444444,
              "#bd3786"
             ],
             [
              0.5555555555555556,
              "#d8576b"
             ],
             [
              0.6666666666666666,
              "#ed7953"
             ],
             [
              0.7777777777777778,
              "#fb9f3a"
             ],
             [
              0.8888888888888888,
              "#fdca26"
             ],
             [
              1,
              "#f0f921"
             ]
            ],
            "type": "heatmap"
           }
          ],
          "heatmapgl": [
           {
            "colorbar": {
             "outlinewidth": 0,
             "ticks": ""
            },
            "colorscale": [
             [
              0,
              "#0d0887"
             ],
             [
              0.1111111111111111,
              "#46039f"
             ],
             [
              0.2222222222222222,
              "#7201a8"
             ],
             [
              0.3333333333333333,
              "#9c179e"
             ],
             [
              0.4444444444444444,
              "#bd3786"
             ],
             [
              0.5555555555555556,
              "#d8576b"
             ],
             [
              0.6666666666666666,
              "#ed7953"
             ],
             [
              0.7777777777777778,
              "#fb9f3a"
             ],
             [
              0.8888888888888888,
              "#fdca26"
             ],
             [
              1,
              "#f0f921"
             ]
            ],
            "type": "heatmapgl"
           }
          ],
          "histogram": [
           {
            "marker": {
             "pattern": {
              "fillmode": "overlay",
              "size": 10,
              "solidity": 0.2
             }
            },
            "type": "histogram"
           }
          ],
          "histogram2d": [
           {
            "colorbar": {
             "outlinewidth": 0,
             "ticks": ""
            },
            "colorscale": [
             [
              0,
              "#0d0887"
             ],
             [
              0.1111111111111111,
              "#46039f"
             ],
             [
              0.2222222222222222,
              "#7201a8"
             ],
             [
              0.3333333333333333,
              "#9c179e"
             ],
             [
              0.4444444444444444,
              "#bd3786"
             ],
             [
              0.5555555555555556,
              "#d8576b"
             ],
             [
              0.6666666666666666,
              "#ed7953"
             ],
             [
              0.7777777777777778,
              "#fb9f3a"
             ],
             [
              0.8888888888888888,
              "#fdca26"
             ],
             [
              1,
              "#f0f921"
             ]
            ],
            "type": "histogram2d"
           }
          ],
          "histogram2dcontour": [
           {
            "colorbar": {
             "outlinewidth": 0,
             "ticks": ""
            },
            "colorscale": [
             [
              0,
              "#0d0887"
             ],
             [
              0.1111111111111111,
              "#46039f"
             ],
             [
              0.2222222222222222,
              "#7201a8"
             ],
             [
              0.3333333333333333,
              "#9c179e"
             ],
             [
              0.4444444444444444,
              "#bd3786"
             ],
             [
              0.5555555555555556,
              "#d8576b"
             ],
             [
              0.6666666666666666,
              "#ed7953"
             ],
             [
              0.7777777777777778,
              "#fb9f3a"
             ],
             [
              0.8888888888888888,
              "#fdca26"
             ],
             [
              1,
              "#f0f921"
             ]
            ],
            "type": "histogram2dcontour"
           }
          ],
          "mesh3d": [
           {
            "colorbar": {
             "outlinewidth": 0,
             "ticks": ""
            },
            "type": "mesh3d"
           }
          ],
          "parcoords": [
           {
            "line": {
             "colorbar": {
              "outlinewidth": 0,
              "ticks": ""
             }
            },
            "type": "parcoords"
           }
          ],
          "pie": [
           {
            "automargin": true,
            "type": "pie"
           }
          ],
          "scatter": [
           {
            "fillpattern": {
             "fillmode": "overlay",
             "size": 10,
             "solidity": 0.2
            },
            "type": "scatter"
           }
          ],
          "scatter3d": [
           {
            "line": {
             "colorbar": {
              "outlinewidth": 0,
              "ticks": ""
             }
            },
            "marker": {
             "colorbar": {
              "outlinewidth": 0,
              "ticks": ""
             }
            },
            "type": "scatter3d"
           }
          ],
          "scattercarpet": [
           {
            "marker": {
             "colorbar": {
              "outlinewidth": 0,
              "ticks": ""
             }
            },
            "type": "scattercarpet"
           }
          ],
          "scattergeo": [
           {
            "marker": {
             "colorbar": {
              "outlinewidth": 0,
              "ticks": ""
             }
            },
            "type": "scattergeo"
           }
          ],
          "scattergl": [
           {
            "marker": {
             "colorbar": {
              "outlinewidth": 0,
              "ticks": ""
             }
            },
            "type": "scattergl"
           }
          ],
          "scattermapbox": [
           {
            "marker": {
             "colorbar": {
              "outlinewidth": 0,
              "ticks": ""
             }
            },
            "type": "scattermapbox"
           }
          ],
          "scatterpolar": [
           {
            "marker": {
             "colorbar": {
              "outlinewidth": 0,
              "ticks": ""
             }
            },
            "type": "scatterpolar"
           }
          ],
          "scatterpolargl": [
           {
            "marker": {
             "colorbar": {
              "outlinewidth": 0,
              "ticks": ""
             }
            },
            "type": "scatterpolargl"
           }
          ],
          "scatterternary": [
           {
            "marker": {
             "colorbar": {
              "outlinewidth": 0,
              "ticks": ""
             }
            },
            "type": "scatterternary"
           }
          ],
          "surface": [
           {
            "colorbar": {
             "outlinewidth": 0,
             "ticks": ""
            },
            "colorscale": [
             [
              0,
              "#0d0887"
             ],
             [
              0.1111111111111111,
              "#46039f"
             ],
             [
              0.2222222222222222,
              "#7201a8"
             ],
             [
              0.3333333333333333,
              "#9c179e"
             ],
             [
              0.4444444444444444,
              "#bd3786"
             ],
             [
              0.5555555555555556,
              "#d8576b"
             ],
             [
              0.6666666666666666,
              "#ed7953"
             ],
             [
              0.7777777777777778,
              "#fb9f3a"
             ],
             [
              0.8888888888888888,
              "#fdca26"
             ],
             [
              1,
              "#f0f921"
             ]
            ],
            "type": "surface"
           }
          ],
          "table": [
           {
            "cells": {
             "fill": {
              "color": "#EBF0F8"
             },
             "line": {
              "color": "white"
             }
            },
            "header": {
             "fill": {
              "color": "#C8D4E3"
             },
             "line": {
              "color": "white"
             }
            },
            "type": "table"
           }
          ]
         },
         "layout": {
          "annotationdefaults": {
           "arrowcolor": "#2a3f5f",
           "arrowhead": 0,
           "arrowwidth": 1
          },
          "autotypenumbers": "strict",
          "coloraxis": {
           "colorbar": {
            "outlinewidth": 0,
            "ticks": ""
           }
          },
          "colorscale": {
           "diverging": [
            [
             0,
             "#8e0152"
            ],
            [
             0.1,
             "#c51b7d"
            ],
            [
             0.2,
             "#de77ae"
            ],
            [
             0.3,
             "#f1b6da"
            ],
            [
             0.4,
             "#fde0ef"
            ],
            [
             0.5,
             "#f7f7f7"
            ],
            [
             0.6,
             "#e6f5d0"
            ],
            [
             0.7,
             "#b8e186"
            ],
            [
             0.8,
             "#7fbc41"
            ],
            [
             0.9,
             "#4d9221"
            ],
            [
             1,
             "#276419"
            ]
           ],
           "sequential": [
            [
             0,
             "#0d0887"
            ],
            [
             0.1111111111111111,
             "#46039f"
            ],
            [
             0.2222222222222222,
             "#7201a8"
            ],
            [
             0.3333333333333333,
             "#9c179e"
            ],
            [
             0.4444444444444444,
             "#bd3786"
            ],
            [
             0.5555555555555556,
             "#d8576b"
            ],
            [
             0.6666666666666666,
             "#ed7953"
            ],
            [
             0.7777777777777778,
             "#fb9f3a"
            ],
            [
             0.8888888888888888,
             "#fdca26"
            ],
            [
             1,
             "#f0f921"
            ]
           ],
           "sequentialminus": [
            [
             0,
             "#0d0887"
            ],
            [
             0.1111111111111111,
             "#46039f"
            ],
            [
             0.2222222222222222,
             "#7201a8"
            ],
            [
             0.3333333333333333,
             "#9c179e"
            ],
            [
             0.4444444444444444,
             "#bd3786"
            ],
            [
             0.5555555555555556,
             "#d8576b"
            ],
            [
             0.6666666666666666,
             "#ed7953"
            ],
            [
             0.7777777777777778,
             "#fb9f3a"
            ],
            [
             0.8888888888888888,
             "#fdca26"
            ],
            [
             1,
             "#f0f921"
            ]
           ]
          },
          "colorway": [
           "#636efa",
           "#EF553B",
           "#00cc96",
           "#ab63fa",
           "#FFA15A",
           "#19d3f3",
           "#FF6692",
           "#B6E880",
           "#FF97FF",
           "#FECB52"
          ],
          "font": {
           "color": "#2a3f5f"
          },
          "geo": {
           "bgcolor": "white",
           "lakecolor": "white",
           "landcolor": "#E5ECF6",
           "showlakes": true,
           "showland": true,
           "subunitcolor": "white"
          },
          "hoverlabel": {
           "align": "left"
          },
          "hovermode": "closest",
          "mapbox": {
           "style": "light"
          },
          "paper_bgcolor": "white",
          "plot_bgcolor": "#E5ECF6",
          "polar": {
           "angularaxis": {
            "gridcolor": "white",
            "linecolor": "white",
            "ticks": ""
           },
           "bgcolor": "#E5ECF6",
           "radialaxis": {
            "gridcolor": "white",
            "linecolor": "white",
            "ticks": ""
           }
          },
          "scene": {
           "xaxis": {
            "backgroundcolor": "#E5ECF6",
            "gridcolor": "white",
            "gridwidth": 2,
            "linecolor": "white",
            "showbackground": true,
            "ticks": "",
            "zerolinecolor": "white"
           },
           "yaxis": {
            "backgroundcolor": "#E5ECF6",
            "gridcolor": "white",
            "gridwidth": 2,
            "linecolor": "white",
            "showbackground": true,
            "ticks": "",
            "zerolinecolor": "white"
           },
           "zaxis": {
            "backgroundcolor": "#E5ECF6",
            "gridcolor": "white",
            "gridwidth": 2,
            "linecolor": "white",
            "showbackground": true,
            "ticks": "",
            "zerolinecolor": "white"
           }
          },
          "shapedefaults": {
           "line": {
            "color": "#2a3f5f"
           }
          },
          "ternary": {
           "aaxis": {
            "gridcolor": "white",
            "linecolor": "white",
            "ticks": ""
           },
           "baxis": {
            "gridcolor": "white",
            "linecolor": "white",
            "ticks": ""
           },
           "bgcolor": "#E5ECF6",
           "caxis": {
            "gridcolor": "white",
            "linecolor": "white",
            "ticks": ""
           }
          },
          "title": {
           "x": 0.05
          },
          "xaxis": {
           "automargin": true,
           "gridcolor": "white",
           "linecolor": "white",
           "ticks": "",
           "title": {
            "standoff": 15
           },
           "zerolinecolor": "white",
           "zerolinewidth": 2
          },
          "yaxis": {
           "automargin": true,
           "gridcolor": "white",
           "linecolor": "white",
           "ticks": "",
           "title": {
            "standoff": 15
           },
           "zerolinecolor": "white",
           "zerolinewidth": 2
          }
         }
        },
        "title": {
         "text": "Logistic Regression: Spam Prediction by Email Feature"
        },
        "xaxis": {
         "anchor": "y",
         "autorange": true,
         "domain": [
          0,
          1
         ],
         "range": [
          -2.2298070267632983,
          2.200217365330464
         ],
         "title": {
          "text": "scam"
         },
         "type": "linear"
        },
        "yaxis": {
         "anchor": "x",
         "autorange": true,
         "domain": [
          0,
          1
         ],
         "range": [
          -5.37715719119283,
          10.926162351593659
         ],
         "title": {
          "text": "Probability of Spam"
         },
         "type": "linear"
        }
       }
      },
      "image/png": "[encoded data removed]",
      "text/html": [
       "<div>                            <div id=\"7e44576a-0a9b-4f9a-87f9-42f153dff306\" class=\"plotly-graph-div\" style=\"height:525px; width:100%;\"></div>            <script type=\"text/javascript\">                require([\"plotly\"], function(Plotly) {                    window.PLOTLYENV=window.PLOTLYENV || {};                                    if (document.getElementById(\"7e44576a-0a9b-4f9a-87f9-42f153dff306\")) {                    Plotly.newPlot(                        \"7e44576a-0a9b-4f9a-87f9-42f153dff306\",                        [{\"hovertemplate\":\"scam=%{x}\\u003cbr\\u003eProbability of Spam=%{y}\\u003cbr\\u003eyn=%{marker.color}\\u003cextra\\u003e\\u003c\\u002fextra\\u003e\",\"legendgroup\":\"\",\"marker\":{\"color\":[-4.5619912140535055,-3.9775632552747746,-3.127794037716808,-2.830350270207564,-2.6232989411366407,-2.0738723236772065,-0.8828234375033572,-0.3247154931955265,-0.21215837361472278,0.4272348445096945,0.5483935765124048,0.7677640817711007,1.3276875322422335,1.542092254740112,1.9775598972847055,2.2902577416944325,2.5504732320648245,2.5515195267350768,3.162980816795705,3.2239349058969493,3.2432666451867735,3.2547014365217746,3.365190278612528,3.387665031157373,3.4136912520752896,3.4159600276827016,3.4928861898023134,3.5175947881220195,3.5749233606098203,3.729636763075149,3.7650670027676867,3.7897718921914834,3.835047281339576,3.870946061586895,3.877262821822937,3.8811349233482426,3.883863082669062,3.8880163866658615,3.8873490520277585,3.8860629032480967,3.8771744090174556,3.8475009746320454,3.835847957016526,3.7666235798135013,3.647842103311762,3.6066318349246917,3.545957243654909,3.0842652790653764,3.0220099531049818,2.978569660037235,2.9314949098912915,2.9141407501263856,2.903425310925335,2.8503119604217027,2.7652978538711888,2.7181979299403705,2.691107926508646,2.5745410937998683,2.3449442479624274,2.2497491242942145,2.1638885338949505,2.161558755378907,2.1606862606142747,2.160324803485743,2.1523932883020453,2.1323332045154673,2.113226018055671,2.1125624290450835,2.1169358235337157,2.140759768028253,2.179154349661593,2.2998476340313436,2.3153371174706634,2.5577464971216473,2.626067873895527,2.8655788070019534,3.2589734019081806,3.3301498692948805,3.3432658709387115,3.526738813688176,3.543425403062753,3.936521765649508,4.620455584707256,4.948817886048055,5.139121251919288,5.471255105042573,5.6669855623750225,5.796910986527418,5.8349183712495485,5.838867021685835,5.959939757504242,6.238768289544067,6.266690180224634,6.956024563519906,7.179001723753794,7.502850382975063,7.797697372011296,8.794612615363858,9.306556437428616,10.110996374454334],\"coloraxis\":\"coloraxis\",\"symbol\":\"circle\"},\"mode\":\"markers\",\"name\":\"\",\"orientation\":\"v\",\"showlegend\":false,\"x\":[-1.9721914778752372,-1.9336486842885754,-1.874283257253063,-1.8524522105818688,-1.8368994337809443,-1.7940849950000426,-1.692080360684828,-1.6388409197823668,-1.6275889287764032,-1.559792301889293,-1.5461059150376437,-1.5205385306652688,-1.449916223416027,-1.4204205116351076,-1.3551148509839823,-1.3025342839800342,-1.253925958400583,-1.2537197644558566,-1.111568758117079,-1.0940168992082482,-1.0882593498322333,-1.0848073380335101,-1.0494498240304013,-1.0417524373321103,-1.0325908363981933,-1.0317789139539983,-1.0028310834045002,-0.9928708166985434,-0.9682334891393776,-0.8854141430535543,-0.8606380224901296,-0.8409941883449279,-0.7964867607329214,-0.7425760756946933,-0.7279861001125445,-0.7168797401130567,-0.7071882719169791,-0.6495393143854882,-0.6438808358051973,-0.635734595798966,-0.6031617015493564,-0.5454815904828241,-0.5288674691229871,-0.45305861479785037,-0.35846830785748107,-0.33035598740488403,-0.29156884549497475,-0.04218895888974794,-0.011005976430458198,0.010716092915445952,0.03428276465881108,0.042989210310262926,0.048372233197123915,0.07516248697346439,0.11860231342402594,0.1430987362990339,0.1573689676626029,0.22080324639784932,0.36357177275296726,0.4382573359195874,0.5292233223743179,0.5324058290930718,0.5336150260416939,0.5341188430435788,0.5456416450551216,0.5806911616377994,0.6399361841367162,0.6885421896235142,0.7102574473691297,0.7637509524098638,0.8120758355807114,0.9038227154809575,0.9128653944474383,1.0222045541721947,1.0464784613148703,1.1195021834304955,1.2146883075964579,1.2297606206562501,1.2324815182576678,1.2688888008048633,1.2720590636899725,1.3412099823569519,1.4429223330253738,1.4858423607508708,1.509357413523924,1.5483456970604692,1.570235993959911,1.584365199693973,1.5884410398103084,1.588863031813307,1.6016722286533218,1.630265895704372,1.6330635438666148,1.6987744731142511,1.7187906093702923,1.746919954946938,1.7716388156500766,1.849789179768445,1.8871283308838427,1.9426018164424028],\"xaxis\":\"x\",\"y\":[0.008665507612845546,0.9999999737416392,0.9998802383189425,0.9800354568104781,1.931069758112168e-06,1.929276364523605e-06,4.440028934512019e-08,0.9999993183582364,0.9818052440324139,0.9996990919297192,1.0472271783926216e-08,0.9999999874647215,0.9999975002121793,1.6904794647921097e-05,5.218261400655941e-06,5.545628731713901e-06,0.0005824599066142203,0.7401651737952379,0.07389176495172868,0.0003529083118574046,0.9878942705859746,1.0217521208272995e-06,0.00036557161367402634,0.006338595036778013,0.16811240226604574,0.9999845599127899,1.0378317819334623e-05,0.6550938803082816,0.9747439012802216,2.836397780198221e-08,0.9857401571330874,3.376510766113205e-06,5.8070727192465175e-08,0.9999999718251137,0.9999999852191248,0.9999936879648644,0.000590850859491485,2.0402584287806406e-07,0.9992465349103988,0.09865785626789474,5.21579221945776e-07,0.47686288307131247,1.7822828430817684e-08,0.9999998706487402,0.00010113700733388432,0.9982628104198257,0.0007764835153589993,0.703959284871544,0.8690423802118097,5.864184842070629e-06,0.9999999873066908,0.9999772666114602,0.9999999595520911,0.9999997739349371,0.9794556757279799,0.999999920246419,1.4325640626867095e-07,9.00284940017723e-06,2.7058565950301816e-08,0.0013114273496058872,0.014845243904333639,0.0001641186035137339,0.9999971167100457,0.0043863056573680255,0.00023740349359812382,0.8504183555493618,1.0796299728688918e-06,0.9999919850968461,8.372834131008027e-08,0.9999999934820007,0.9999745915029602,1.0002268251388936e-05,5.86210367686298e-09,0.9999951917074347,0.9996846753374095,0.9998656372000346,0.9999736196686448,8.211215498576694e-08,0.004683999059530565,4.112562861330557e-07,0.9999992327065307,0.9921766020283099,0.0016246254868594353,5.482465735721026e-08,0.0007550049736634308,0.0013040314232744513,0.999868701676989,0.9954680951448138,0.9999996968743465,0.273459581698874,4.7471545102109384e-07,0.9997534366655813,0.9999604916134401,0.9208283136700239,0.9999733097914557,0.46360831021201704,0.724895288388376,0.06308925372608401,1.2616018816675236e-08,3.0244754663763635e-07],\"yaxis\":\"y\",\"type\":\"scatter\"},{\"hovertemplate\":\"scam=%{x}\\u003cbr\\u003eyn=%{y}\\u003cextra\\u003e\\u003c\\u002fextra\\u003e\",\"legendgroup\":\"\",\"line\":{\"color\":\"red\",\"dash\":\"solid\"},\"marker\":{\"symbol\":\"circle\"},\"mode\":\"lines\",\"name\":\"\",\"orientation\":\"v\",\"showlegend\":false,\"x\":[-1.9721914778752372,-1.9336486842885754,-1.874283257253063,-1.8524522105818688,-1.8368994337809443,-1.7940849950000426,-1.692080360684828,-1.6388409197823668,-1.6275889287764032,-1.559792301889293,-1.5461059150376437,-1.5205385306652688,-1.449916223416027,-1.4204205116351076,-1.3551148509839823,-1.3025342839800342,-1.253925958400583,-1.2537197644558566,-1.111568758117079,-1.0940168992082482,-1.0882593498322333,-1.0848073380335101,-1.0494498240304013,-1.0417524373321103,-1.0325908363981933,-1.0317789139539983,-1.0028310834045002,-0.9928708166985434,-0.9682334891393776,-0.8854141430535543,-0.8606380224901296,-0.8409941883449279,-0.7964867607329214,-0.7425760756946933,-0.7279861001125445,-0.7168797401130567,-0.7071882719169791,-0.6495393143854882,-0.6438808358051973,-0.635734595798966,-0.6031617015493564,-0.5454815904828241,-0.5288674691229871,-0.45305861479785037,-0.35846830785748107,-0.33035598740488403,-0.29156884549497475,-0.04218895888974794,-0.011005976430458198,0.010716092915445952,0.03428276465881108,0.042989210310262926,0.048372233197123915,0.07516248697346439,0.11860231342402594,0.1430987362990339,0.1573689676626029,0.22080324639784932,0.36357177275296726,0.4382573359195874,0.5292233223743179,0.5324058290930718,0.5336150260416939,0.5341188430435788,0.5456416450551216,0.5806911616377994,0.6399361841367162,0.6885421896235142,0.7102574473691297,0.7637509524098638,0.8120758355807114,0.9038227154809575,0.9128653944474383,1.0222045541721947,1.0464784613148703,1.1195021834304955,1.2146883075964579,1.2297606206562501,1.2324815182576678,1.2688888008048633,1.2720590636899725,1.3412099823569519,1.4429223330253738,1.4858423607508708,1.509357413523924,1.5483456970604692,1.570235993959911,1.584365199693973,1.5884410398103084,1.588863031813307,1.6016722286533218,1.630265895704372,1.6330635438666148,1.6987744731142511,1.7187906093702923,1.746919954946938,1.7716388156500766,1.849789179768445,1.8871283308838427,1.9426018164424028],\"xaxis\":\"x\",\"y\":[-4.5619912140535055,-3.9775632552747746,-3.127794037716808,-2.830350270207564,-2.6232989411366407,-2.0738723236772065,-0.8828234375033572,-0.3247154931955265,-0.21215837361472278,0.4272348445096945,0.5483935765124048,0.7677640817711007,1.3276875322422335,1.542092254740112,1.9775598972847055,2.2902577416944325,2.5504732320648245,2.5515195267350768,3.162980816795705,3.2239349058969493,3.2432666451867735,3.2547014365217746,3.365190278612528,3.387665031157373,3.4136912520752896,3.4159600276827016,3.4928861898023134,3.5175947881220195,3.5749233606098203,3.729636763075149,3.7650670027676867,3.7897718921914834,3.835047281339576,3.870946061586895,3.877262821822937,3.8811349233482426,3.883863082669062,3.8880163866658615,3.8873490520277585,3.8860629032480967,3.8771744090174556,3.8475009746320454,3.835847957016526,3.7666235798135013,3.647842103311762,3.6066318349246917,3.545957243654909,3.0842652790653764,3.0220099531049818,2.978569660037235,2.9314949098912915,2.9141407501263856,2.903425310925335,2.8503119604217027,2.7652978538711888,2.7181979299403705,2.691107926508646,2.5745410937998683,2.3449442479624274,2.2497491242942145,2.1638885338949505,2.161558755378907,2.1606862606142747,2.160324803485743,2.1523932883020453,2.1323332045154673,2.113226018055671,2.1125624290450835,2.1169358235337157,2.140759768028253,2.179154349661593,2.2998476340313436,2.3153371174706634,2.5577464971216473,2.626067873895527,2.8655788070019534,3.2589734019081806,3.3301498692948805,3.3432658709387115,3.526738813688176,3.543425403062753,3.936521765649508,4.620455584707256,4.948817886048055,5.139121251919288,5.471255105042573,5.6669855623750225,5.796910986527418,5.8349183712495485,5.838867021685835,5.959939757504242,6.238768289544067,6.266690180224634,6.956024563519906,7.179001723753794,7.502850382975063,7.797697372011296,8.794612615363858,9.306556437428616,10.110996374454334],\"yaxis\":\"y\",\"type\":\"scatter\"}],                        {\"template\":{\"data\":{\"histogram2dcontour\":[{\"type\":\"histogram2dcontour\",\"colorbar\":{\"outlinewidth\":0,\"ticks\":\"\"},\"colorscale\":[[0.0,\"#0d0887\"],[0.1111111111111111,\"#46039f\"],[0.2222222222222222,\"#7201a8\"],[0.3333333333333333,\"#9c179e\"],[0.4444444444444444,\"#bd3786\"],[0.5555555555555556,\"#d8576b\"],[0.6666666666666666,\"#ed7953\"],[0.7777777777777778,\"#fb9f3a\"],[0.8888888888888888,\"#fdca26\"],[1.0,\"#f0f921\"]]}],\"choropleth\":[{\"type\":\"choropleth\",\"colorbar\":{\"outlinewidth\":0,\"ticks\":\"\"}}],\"histogram2d\":[{\"type\":\"histogram2d\",\"colorbar\":{\"outlinewidth\":0,\"ticks\":\"\"},\"colorscale\":[[0.0,\"#0d0887\"],[0.1111111111111111,\"#46039f\"],[0.2222222222222222,\"#7201a8\"],[0.3333333333333333,\"#9c179e\"],[0.4444444444444444,\"#bd3786\"],[0.5555555555555556,\"#d8576b\"],[0.6666666666666666,\"#ed7953\"],[0.7777777777777778,\"#fb9f3a\"],[0.8888888888888888,\"#fdca26\"],[1.0,\"#f0f921\"]]}],\"heatmap\":[{\"type\":\"heatmap\",\"colorbar\":{\"outlinewidth\":0,\"ticks\":\"\"},\"colorscale\":[[0.0,\"#0d0887\"],[0.1111111111111111,\"#46039f\"],[0.2222222222222222,\"#7201a8\"],[0.3333333333333333,\"#9c179e\"],[0.4444444444444444,\"#bd3786\"],[0.5555555555555556,\"#d8576b\"],[0.6666666666666666,\"#ed7953\"],[0.7777777777777778,\"#fb9f3a\"],[0.8888888888888888,\"#fdca26\"],[1.0,\"#f0f921\"]]}],\"heatmapgl\":[{\"type\":\"heatmapgl\",\"colorbar\":{\"outlinewidth\":0,\"ticks\":\"\"},\"colorscale\":[[0.0,\"#0d0887\"],[0.1111111111111111,\"#46039f\"],[0.2222222222222222,\"#7201a8\"],[0.3333333333333333,\"#9c179e\"],[0.4444444444444444,\"#bd3786\"],[0.5555555555555556,\"#d8576b\"],[0.6666666666666666,\"#ed7953\"],[0.7777777777777778,\"#fb9f3a\"],[0.8888888888888888,\"#fdca26\"],[1.0,\"#f0f921\"]]}],\"contourcarpet\":[{\"type\":\"contourcarpet\",\"colorbar\":{\"outlinewidth\":0,\"ticks\":\"\"}}],\"contour\":[{\"type\":\"contour\",\"colorbar\":{\"outlinewidth\":0,\"ticks\":\"\"},\"colorscale\":[[0.0,\"#0d0887\"],[0.1111111111111111,\"#46039f\"],[0.2222222222222222,\"#7201a8\"],[0.3333333333333333,\"#9c179e\"],[0.4444444444444444,\"#bd3786\"],[0.5555555555555556,\"#d8576b\"],[0.6666666666666666,\"#ed7953\"],[0.7777777777777778,\"#fb9f3a\"],[0.8888888888888888,\"#fdca26\"],[1.0,\"#f0f921\"]]}],\"surface\":[{\"type\":\"surface\",\"colorbar\":{\"outlinewidth\":0,\"ticks\":\"\"},\"colorscale\":[[0.0,\"#0d0887\"],[0.1111111111111111,\"#46039f\"],[0.2222222222222222,\"#7201a8\"],[0.3333333333333333,\"#9c179e\"],[0.4444444444444444,\"#bd3786\"],[0.5555555555555556,\"#d8576b\"],[0.6666666666666666,\"#ed7953\"],[0.7777777777777778,\"#fb9f3a\"],[0.8888888888888888,\"#fdca26\"],[1.0,\"#f0f921\"]]}],\"mesh3d\":[{\"type\":\"mesh3d\",\"colorbar\":{\"outlinewidth\":0,\"ticks\":\"\"}}],\"scatter\":[{\"fillpattern\":{\"fillmode\":\"overlay\",\"size\":10,\"solidity\":0.2},\"type\":\"scatter\"}],\"parcoords\":[{\"type\":\"parcoords\",\"line\":{\"colorbar\":{\"outlinewidth\":0,\"ticks\":\"\"}}}],\"scatterpolargl\":[{\"type\":\"scatterpolargl\",\"marker\":{\"colorbar\":{\"outlinewidth\":0,\"ticks\":\"\"}}}],\"bar\":[{\"error_x\":{\"color\":\"#2a3f5f\"},\"error_y\":{\"color\":\"#2a3f5f\"},\"marker\":{\"line\":{\"color\":\"#E5ECF6\",\"width\":0.5},\"pattern\":{\"fillmode\":\"overlay\",\"size\":10,\"solidity\":0.2}},\"type\":\"bar\"}],\"scattergeo\":[{\"type\":\"scattergeo\",\"marker\":{\"colorbar\":{\"outlinewidth\":0,\"ticks\":\"\"}}}],\"scatterpolar\":[{\"type\":\"scatterpolar\",\"marker\":{\"colorbar\":{\"outlinewidth\":0,\"ticks\":\"\"}}}],\"histogram\":[{\"marker\":{\"pattern\":{\"fillmode\":\"overlay\",\"size\":10,\"solidity\":0.2}},\"type\":\"histogram\"}],\"scattergl\":[{\"type\":\"scattergl\",\"marker\":{\"colorbar\":{\"outlinewidth\":0,\"ticks\":\"\"}}}],\"scatter3d\":[{\"type\":\"scatter3d\",\"line\":{\"colorbar\":{\"outlinewidth\":0,\"ticks\":\"\"}},\"marker\":{\"colorbar\":{\"outlinewidth\":0,\"ticks\":\"\"}}}],\"scattermapbox\":[{\"type\":\"scattermapbox\",\"marker\":{\"colorbar\":{\"outlinewidth\":0,\"ticks\":\"\"}}}],\"scatterternary\":[{\"type\":\"scatterternary\",\"marker\":{\"colorbar\":{\"outlinewidth\":0,\"ticks\":\"\"}}}],\"scattercarpet\":[{\"type\":\"scattercarpet\",\"marker\":{\"colorbar\":{\"outlinewidth\":0,\"ticks\":\"\"}}}],\"carpet\":[{\"aaxis\":{\"endlinecolor\":\"#2a3f5f\",\"gridcolor\":\"white\",\"linecolor\":\"white\",\"minorgridcolor\":\"white\",\"startlinecolor\":\"#2a3f5f\"},\"baxis\":{\"endlinecolor\":\"#2a3f5f\",\"gridcolor\":\"white\",\"linecolor\":\"white\",\"minorgridcolor\":\"white\",\"startlinecolor\":\"#2a3f5f\"},\"type\":\"carpet\"}],\"table\":[{\"cells\":{\"fill\":{\"color\":\"#EBF0F8\"},\"line\":{\"color\":\"white\"}},\"header\":{\"fill\":{\"color\":\"#C8D4E3\"},\"line\":{\"color\":\"white\"}},\"type\":\"table\"}],\"barpolar\":[{\"marker\":{\"line\":{\"color\":\"#E5ECF6\",\"width\":0.5},\"pattern\":{\"fillmode\":\"overlay\",\"size\":10,\"solidity\":0.2}},\"type\":\"barpolar\"}],\"pie\":[{\"automargin\":true,\"type\":\"pie\"}]},\"layout\":{\"autotypenumbers\":\"strict\",\"colorway\":[\"#636efa\",\"#EF553B\",\"#00cc96\",\"#ab63fa\",\"#FFA15A\",\"#19d3f3\",\"#FF6692\",\"#B6E880\",\"#FF97FF\",\"#FECB52\"],\"font\":{\"color\":\"#2a3f5f\"},\"hovermode\":\"closest\",\"hoverlabel\":{\"align\":\"left\"},\"paper_bgcolor\":\"white\",\"plot_bgcolor\":\"#E5ECF6\",\"polar\":{\"bgcolor\":\"#E5ECF6\",\"angularaxis\":{\"gridcolor\":\"white\",\"linecolor\":\"white\",\"ticks\":\"\"},\"radialaxis\":{\"gridcolor\":\"white\",\"linecolor\":\"white\",\"ticks\":\"\"}},\"ternary\":{\"bgcolor\":\"#E5ECF6\",\"aaxis\":{\"gridcolor\":\"white\",\"linecolor\":\"white\",\"ticks\":\"\"},\"baxis\":{\"gridcolor\":\"white\",\"linecolor\":\"white\",\"ticks\":\"\"},\"caxis\":{\"gridcolor\":\"white\",\"linecolor\":\"white\",\"ticks\":\"\"}},\"coloraxis\":{\"colorbar\":{\"outlinewidth\":0,\"ticks\":\"\"}},\"colorscale\":{\"sequential\":[[0.0,\"#0d0887\"],[0.1111111111111111,\"#46039f\"],[0.2222222222222222,\"#7201a8\"],[0.3333333333333333,\"#9c179e\"],[0.4444444444444444,\"#bd3786\"],[0.5555555555555556,\"#d8576b\"],[0.6666666666666666,\"#ed7953\"],[0.7777777777777778,\"#fb9f3a\"],[0.8888888888888888,\"#fdca26\"],[1.0,\"#f0f921\"]],\"sequentialminus\":[[0.0,\"#0d0887\"],[0.1111111111111111,\"#46039f\"],[0.2222222222222222,\"#7201a8\"],[0.3333333333333333,\"#9c179e\"],[0.4444444444444444,\"#bd3786\"],[0.5555555555555556,\"#d8576b\"],[0.6666666666666666,\"#ed7953\"],[0.7777777777777778,\"#fb9f3a\"],[0.8888888888888888,\"#fdca26\"],[1.0,\"#f0f921\"]],\"diverging\":[[0,\"#8e0152\"],[0.1,\"#c51b7d\"],[0.2,\"#de77ae\"],[0.3,\"#f1b6da\"],[0.4,\"#fde0ef\"],[0.5,\"#f7f7f7\"],[0.6,\"#e6f5d0\"],[0.7,\"#b8e186\"],[0.8,\"#7fbc41\"],[0.9,\"#4d9221\"],[1,\"#276419\"]]},\"xaxis\":{\"gridcolor\":\"white\",\"linecolor\":\"white\",\"ticks\":\"\",\"title\":{\"standoff\":15},\"zerolinecolor\":\"white\",\"automargin\":true,\"zerolinewidth\":2},\"yaxis\":{\"gridcolor\":\"white\",\"linecolor\":\"white\",\"ticks\":\"\",\"title\":{\"standoff\":15},\"zerolinecolor\":\"white\",\"automargin\":true,\"zerolinewidth\":2},\"scene\":{\"xaxis\":{\"backgroundcolor\":\"#E5ECF6\",\"gridcolor\":\"white\",\"linecolor\":\"white\",\"showbackground\":true,\"ticks\":\"\",\"zerolinecolor\":\"white\",\"gridwidth\":2},\"yaxis\":{\"backgroundcolor\":\"#E5ECF6\",\"gridcolor\":\"white\",\"linecolor\":\"white\",\"showbackground\":true,\"ticks\":\"\",\"zerolinecolor\":\"white\",\"gridwidth\":2},\"zaxis\":{\"backgroundcolor\":\"#E5ECF6\",\"gridcolor\":\"white\",\"linecolor\":\"white\",\"showbackground\":true,\"ticks\":\"\",\"zerolinecolor\":\"white\",\"gridwidth\":2}},\"shapedefaults\":{\"line\":{\"color\":\"#2a3f5f\"}},\"annotationdefaults\":{\"arrowcolor\":\"#2a3f5f\",\"arrowhead\":0,\"arrowwidth\":1},\"geo\":{\"bgcolor\":\"white\",\"landcolor\":\"#E5ECF6\",\"subunitcolor\":\"white\",\"showland\":true,\"showlakes\":true,\"lakecolor\":\"white\"},\"title\":{\"x\":0.05},\"mapbox\":{\"style\":\"light\"}}},\"xaxis\":{\"anchor\":\"y\",\"domain\":[0.0,1.0],\"title\":{\"text\":\"scam\"}},\"yaxis\":{\"anchor\":\"x\",\"domain\":[0.0,1.0],\"title\":{\"text\":\"Probability of Spam\"}},\"coloraxis\":{\"colorbar\":{\"title\":{\"text\":\"yn\"}},\"colorscale\":[[0.0,\"blue\"],[1.0,\"red\"]]},\"legend\":{\"tracegroupgap\":0},\"title\":{\"text\":\"Logistic Regression: Spam Prediction by Email Feature\"}},                        {\"responsive\": true}                    ).then(function(){\n",
       "                            \n",
       "var gd = document.getElementById('7e44576a-0a9b-4f9a-87f9-42f153dff306');\n",
       "var x = new MutationObserver(function (mutations, observer) {{\n",
       "        var display = window.getComputedStyle(gd).display;\n",
       "        if (!display || display === 'none') {{\n",
       "            console.log([gd, 'removed!']);\n",
       "            Plotly.purge(gd);\n",
       "            observer.disconnect();\n",
       "        }}\n",
       "}});\n",
       "\n",
       "// Listen for the removal of the full notebook cells\n",
       "var notebookContainer = gd.closest('#notebook-container');\n",
       "if (notebookContainer) {{\n",
       "    x.observe(notebookContainer, {childList: true});\n",
       "}}\n",
       "\n",
       "// Listen for the clearing of the current output cell\n",
       "var outputEl = gd.closest('.output');\n",
       "if (outputEl) {{\n",
       "    x.observe(outputEl, {childList: true});\n",
       "}}\n",
       "\n",
       "                        })                };                });            </script>        </div>"
      ]
     },
     "metadata": {},
     "output_type": "display_data"
    }
   ],
   "source": [
    "\n",
    "np.random.seed(42)\n",
    "num_points = 100\n",
    "X = np.random.uniform(-10, 10, num_points).reshape(-1, 1) \n",
    "\n",
    "y = (1 / (1 + np.exp(-X.flatten()))) > 0.5  \n",
    "\n",
    "\n",
    "model = LogisticRegression()\n",
    "model.fit(X, y)\n",
    "\n",
    "\n",
    "y_prob = model.predict_proba(X)[:, 1]  \n",
    "\n",
    "DF['predicted_prob'] = y_prob\n",
    "\n",
    "fig = px.scatter(DF, \n",
    "                 x='scam', \n",
    "                 y='predicted_prob', \n",
    "                 color='yn',  \n",
    "                 color_continuous_scale=['blue', 'red'],  # Blue for not spam, red for spam\n",
    "                 labels={'feature': 'Email Feature', 'predicted_prob': 'Probability of Spam'},\n",
    "                 title='Logistic Regression: Spam Prediction by Email Feature')\n",
    "fig.add_trace(\n",
    "    px.line(DF, x='scam', y='yn',color_discrete_sequence=['red']).data[0])\n",
    "fig.show()\n"
   ]
  },
  {
   "cell_type": "markdown",
   "id": "7c548fdb-5f36-40f7-ae81-404123de9a34",
   "metadata": {},
   "source": [
    "After several attempts I couldn't get it to look like I had in mind"
   ]
  },
  {
   "cell_type": "code",
   "execution_count": null,
   "id": "3ac30828-0c61-4872-9e20-1fbe702f1d17",
   "metadata": {},
   "outputs": [],
   "source": []
  }
 ],
 "metadata": {
  "kernelspec": {
   "display_name": "Python 3 (ipykernel)",
   "language": "python",
   "name": "python3"
  },
  "language_info": {
   "codemirror_mode": {
    "name": "ipython",
    "version": 3
   },
   "file_extension": ".py",
   "mimetype": "text/x-python",
   "name": "python",
   "nbconvert_exporter": "python",
   "pygments_lexer": "ipython3",
   "version": "3.12.3"
  }
 },
 "nbformat": 4,
 "nbformat_minor": 5
}
